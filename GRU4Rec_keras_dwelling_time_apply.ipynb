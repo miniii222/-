{
 "cells": [
  {
   "cell_type": "code",
   "execution_count": 30,
   "metadata": {},
   "outputs": [],
   "source": [
    "import numpy as np\n",
    "import pandas as pd\n",
    "from tqdm import tqdm\n",
    "\n",
    "import tensorflow as tf\n",
    "config = tf.ConfigProto()\n",
    "config.gpu_options.allow_growth = True\n",
    "\n",
    "import keras\n",
    "import keras.backend as K\n",
    "from keras.models import Model\n",
    "from keras.utils import to_categorical\n",
    "from keras.callbacks import ModelCheckpoint\n",
    "from keras.losses import categorical_crossentropy\n",
    "from keras.layers import Input, Dense, Dropout, CuDNNGRU, Embedding"
   ]
  },
  {
   "cell_type": "code",
   "execution_count": 31,
   "metadata": {},
   "outputs": [
    {
     "name": "stdout",
     "output_type": "stream",
     "text": [
      "train data shape :  (31579006, 3)\n",
      "test data shape :  (71222, 3)\n"
     ]
    }
   ],
   "source": [
    "train_path = './data/preprocessed/rsc15_train_tr.pkl'\n",
    "dev_path = './data/preprocessed/rsc15_train_valid.pkl'\n",
    "test_path = './data/preprocessed/rsc15_test.pkl'\n",
    "batch_size = 50\n",
    "\n",
    "train_data = pd.read_pickle(train_path)\n",
    "#dev_data   = pd.read_pickle(dev_path)\n",
    "test_data  = pd.read_pickle(test_path)\n",
    "\n",
    "print('train data shape : ', train_data.shape)\n",
    "#print('dev data shape : ', dev_data.shape)\n",
    "print('test data shape : ', test_data.shape)"
   ]
  },
  {
   "cell_type": "code",
   "execution_count": 32,
   "metadata": {},
   "outputs": [
    {
     "name": "stdout",
     "output_type": "stream",
     "text": [
      "train data shape :  (3000000, 3)\n"
     ]
    }
   ],
   "source": [
    "#three백만개\n",
    "train_data = train_data.head(3000000)\n",
    "print('train data shape : ', train_data.shape)"
   ]
  },
  {
   "cell_type": "code",
   "execution_count": 33,
   "metadata": {},
   "outputs": [
    {
     "name": "stdout",
     "output_type": "stream",
     "text": [
      "the number of train items :  25456\n",
      "the number of train session ID :  722918\n",
      "the number of test session ID :  15325\n"
     ]
    }
   ],
   "source": [
    "train_n_items = len(train_data['ItemId'].unique()) + 1\n",
    "print('the number of train items : ', train_n_items)\n",
    "\n",
    "train_samples_qty = len(train_data.SessionId.unique()) + 1\n",
    "test_samples_qty = len(test_data.SessionId.unique()) + 1\n",
    "\n",
    "print('the number of train session ID : ', train_samples_qty)\n",
    "print('the number of test session ID : ', test_samples_qty)"
   ]
  },
  {
   "cell_type": "markdown",
   "metadata": {},
   "source": [
    "# dwelling time"
   ]
  },
  {
   "cell_type": "code",
   "execution_count": 34,
   "metadata": {},
   "outputs": [],
   "source": [
    "from datetime import datetime"
   ]
  },
  {
   "cell_type": "code",
   "execution_count": 35,
   "metadata": {},
   "outputs": [],
   "source": [
    "train_data.sort_values(['SessionId', 'Time'], inplace = True)"
   ]
  },
  {
   "cell_type": "markdown",
   "metadata": {},
   "source": [
    "## extract"
   ]
  },
  {
   "cell_type": "code",
   "execution_count": 36,
   "metadata": {},
   "outputs": [],
   "source": [
    "def compute_dwell_time(df):\n",
    "   \n",
    "    times_t = np.roll(df['Time'], -1) # Take time row\n",
    "    times_dt  = df['Time']            # Copy, then displace by one\n",
    "    \n",
    "    diffs = np.subtract(times_t, times_dt) # Take the pairwise difference\n",
    "    \n",
    "    length = len(df['ItemId'])\n",
    "    \n",
    "    # cummulative offset start for each session\n",
    "    offset_sessions = np.zeros(df['SessionId'].nunique()+1, dtype=np.int32)\n",
    "    offset_sessions[1:] = df.groupby('SessionId').size().cumsum() \n",
    "    \n",
    "    offset_sessions = offset_sessions - 1\n",
    "    offset_sessions = np.roll(offset_sessions, -1)\n",
    "    \n",
    "    # session transition implies zero-dwell-time\n",
    "    # note: paper statistics do not consider null entries, \n",
    "    # though they are still checked when augmenting\n",
    "    np.put(diffs, offset_sessions, np.zeros((offset_sessions.shape)), mode='raise')\n",
    "        \n",
    "    return diffs"
   ]
  },
  {
   "cell_type": "code",
   "execution_count": 37,
   "metadata": {},
   "outputs": [],
   "source": [
    "dts = compute_dwell_time(train_data)"
   ]
  },
  {
   "cell_type": "code",
   "execution_count": 38,
   "metadata": {},
   "outputs": [
    {
     "data": {
      "text/html": [
       "<div>\n",
       "<style scoped>\n",
       "    .dataframe tbody tr th:only-of-type {\n",
       "        vertical-align: middle;\n",
       "    }\n",
       "\n",
       "    .dataframe tbody tr th {\n",
       "        vertical-align: top;\n",
       "    }\n",
       "\n",
       "    .dataframe thead th {\n",
       "        text-align: right;\n",
       "    }\n",
       "</style>\n",
       "<table border=\"1\" class=\"dataframe\">\n",
       "  <thead>\n",
       "    <tr style=\"text-align: right;\">\n",
       "      <th></th>\n",
       "      <th>SessionId</th>\n",
       "      <th>ItemId</th>\n",
       "      <th>Time</th>\n",
       "      <th>dwell_time</th>\n",
       "    </tr>\n",
       "  </thead>\n",
       "  <tbody>\n",
       "    <tr>\n",
       "      <th>0</th>\n",
       "      <td>1</td>\n",
       "      <td>214536502</td>\n",
       "      <td>1.396835e+09</td>\n",
       "      <td>180.591</td>\n",
       "    </tr>\n",
       "    <tr>\n",
       "      <th>1</th>\n",
       "      <td>1</td>\n",
       "      <td>214536500</td>\n",
       "      <td>1.396836e+09</td>\n",
       "      <td>37.130</td>\n",
       "    </tr>\n",
       "    <tr>\n",
       "      <th>2</th>\n",
       "      <td>1</td>\n",
       "      <td>214536506</td>\n",
       "      <td>1.396836e+09</td>\n",
       "      <td>133.308</td>\n",
       "    </tr>\n",
       "  </tbody>\n",
       "</table>\n",
       "</div>"
      ],
      "text/plain": [
       "   SessionId     ItemId          Time  dwell_time\n",
       "0          1  214536502  1.396835e+09     180.591\n",
       "1          1  214536500  1.396836e+09      37.130\n",
       "2          1  214536506  1.396836e+09     133.308"
      ]
     },
     "execution_count": 38,
     "metadata": {},
     "output_type": "execute_result"
    }
   ],
   "source": [
    "train_data['dwell_time'] = compute_dwell_time(train_data)\n",
    "train_data.head(3)"
   ]
  },
  {
   "cell_type": "markdown",
   "metadata": {},
   "source": [
    "## statistics"
   ]
  },
  {
   "cell_type": "code",
   "execution_count": 10,
   "metadata": {},
   "outputs": [],
   "source": [
    "import matplotlib.pyplot as plt"
   ]
  },
  {
   "cell_type": "code",
   "execution_count": 39,
   "metadata": {},
   "outputs": [],
   "source": [
    "def get_statistics(dts):\n",
    "    filtered = np.array(list(filter(lambda x: int(x) != 0, dts)))\n",
    "    pd_dts = pd.DataFrame(filtered)\n",
    "    pd_dts.boxplot(vert=False, showfliers=False) # no outliers in boxplot\n",
    "    plt.show()\n",
    "    print(pd_dts.describe())"
   ]
  },
  {
   "cell_type": "code",
   "execution_count": 40,
   "metadata": {
    "scrolled": false
   },
   "outputs": [
    {
     "data": {
      "image/png": "[encoded data removed]",
      "text/plain": [
       "<Figure size 432x288 with 1 Axes>"
      ]
     },
     "metadata": {
      "needs_background": "light"
     },
     "output_type": "display_data"
    },
    {
     "name": "stdout",
     "output_type": "stream",
     "text": [
      "                  0\n",
      "count  2.248109e+06\n",
      "mean   1.374777e+02\n",
      "std    3.044927e+02\n",
      "min    1.000000e+00\n",
      "25%    2.463000e+01\n",
      "50%    5.386900e+01\n",
      "75%    1.215220e+02\n",
      "max    5.656584e+03\n"
     ]
    }
   ],
   "source": [
    "get_statistics(dts)"
   ]
  },
  {
   "cell_type": "markdown",
   "metadata": {},
   "source": [
    "# threshold"
   ]
  },
  {
   "cell_type": "code",
   "execution_count": 41,
   "metadata": {},
   "outputs": [],
   "source": [
    "def join_dwell_reps(df, dt, threshold=20000):\n",
    "    # Calculate d_ti/threshold + 1\n",
    "    # then add column to dataFrame\n",
    "    \n",
    "    dt //= threshold\n",
    "    dt += 1   \n",
    "    df['DwellReps'] = pd.Series(dt.astype(np.int64), index=dt.index)"
   ]
  },
  {
   "cell_type": "code",
   "execution_count": 42,
   "metadata": {},
   "outputs": [],
   "source": [
    "join_dwell_reps(train_data, dts, threshold = 2000)"
   ]
  },
  {
   "cell_type": "code",
   "execution_count": 43,
   "metadata": {},
   "outputs": [
    {
     "data": {
      "text/html": [
       "<div>\n",
       "<style scoped>\n",
       "    .dataframe tbody tr th:only-of-type {\n",
       "        vertical-align: middle;\n",
       "    }\n",
       "\n",
       "    .dataframe tbody tr th {\n",
       "        vertical-align: top;\n",
       "    }\n",
       "\n",
       "    .dataframe thead th {\n",
       "        text-align: right;\n",
       "    }\n",
       "</style>\n",
       "<table border=\"1\" class=\"dataframe\">\n",
       "  <thead>\n",
       "    <tr style=\"text-align: right;\">\n",
       "      <th></th>\n",
       "      <th>SessionId</th>\n",
       "      <th>ItemId</th>\n",
       "      <th>Time</th>\n",
       "      <th>dwell_time</th>\n",
       "      <th>DwellReps</th>\n",
       "    </tr>\n",
       "  </thead>\n",
       "  <tbody>\n",
       "    <tr>\n",
       "      <th>0</th>\n",
       "      <td>1</td>\n",
       "      <td>214536502</td>\n",
       "      <td>1.396835e+09</td>\n",
       "      <td>180.591</td>\n",
       "      <td>1</td>\n",
       "    </tr>\n",
       "    <tr>\n",
       "      <th>1</th>\n",
       "      <td>1</td>\n",
       "      <td>214536500</td>\n",
       "      <td>1.396836e+09</td>\n",
       "      <td>37.130</td>\n",
       "      <td>1</td>\n",
       "    </tr>\n",
       "    <tr>\n",
       "      <th>2</th>\n",
       "      <td>1</td>\n",
       "      <td>214536506</td>\n",
       "      <td>1.396836e+09</td>\n",
       "      <td>133.308</td>\n",
       "      <td>1</td>\n",
       "    </tr>\n",
       "    <tr>\n",
       "      <th>3</th>\n",
       "      <td>1</td>\n",
       "      <td>214577561</td>\n",
       "      <td>1.396836e+09</td>\n",
       "      <td>0.000</td>\n",
       "      <td>1</td>\n",
       "    </tr>\n",
       "    <tr>\n",
       "      <th>4</th>\n",
       "      <td>2</td>\n",
       "      <td>214662742</td>\n",
       "      <td>1.396847e+09</td>\n",
       "      <td>41.759</td>\n",
       "      <td>1</td>\n",
       "    </tr>\n",
       "  </tbody>\n",
       "</table>\n",
       "</div>"
      ],
      "text/plain": [
       "   SessionId     ItemId          Time  dwell_time  DwellReps\n",
       "0          1  214536502  1.396835e+09     180.591          1\n",
       "1          1  214536500  1.396836e+09      37.130          1\n",
       "2          1  214536506  1.396836e+09     133.308          1\n",
       "3          1  214577561  1.396836e+09       0.000          1\n",
       "4          2  214662742  1.396847e+09      41.759          1"
      ]
     },
     "execution_count": 43,
     "metadata": {},
     "output_type": "execute_result"
    }
   ],
   "source": [
    "train_data.head()"
   ]
  },
  {
   "cell_type": "code",
   "execution_count": 16,
   "metadata": {},
   "outputs": [
    {
     "data": {
      "text/plain": [
       "1    2983261\n",
       "2      16737\n",
       "3          2\n",
       "Name: DwellReps, dtype: int64"
      ]
     },
     "execution_count": 16,
     "metadata": {},
     "output_type": "execute_result"
    }
   ],
   "source": [
    "train_data.DwellReps.value_counts()"
   ]
  },
  {
   "cell_type": "markdown",
   "metadata": {},
   "source": [
    "# augment"
   ]
  },
  {
   "cell_type": "code",
   "execution_count": 44,
   "metadata": {},
   "outputs": [],
   "source": [
    "def augment(df):    \n",
    "    col_names = list(df.columns.values)[:3]\n",
    "    print(col_names)\n",
    "    augmented = np.repeat(df.values, df['DwellReps'], axis=0) \n",
    "    print(augmented[0][:3])  \n",
    "    augmented = pd.DataFrame(data=augmented[:,:3],\n",
    "                             columns=col_names)\n",
    "    \n",
    "    dtype = {'SessionId': np.int64, \n",
    "             'ItemId': np.int64, \n",
    "             'Time': np.float32}\n",
    "    \n",
    "    for k, v in dtype.items():\n",
    "        augmented[k] = augmented[k].astype(v)\n",
    "                             \n",
    "    \n",
    "    return augmented"
   ]
  },
  {
   "cell_type": "code",
   "execution_count": 45,
   "metadata": {},
   "outputs": [
    {
     "name": "stdout",
     "output_type": "stream",
     "text": [
      "['SessionId', 'ItemId', 'Time']\n",
      "[1.00000000e+00 2.14536502e+08 1.39683547e+09]\n"
     ]
    },
    {
     "data": {
      "text/html": [
       "<div>\n",
       "<style scoped>\n",
       "    .dataframe tbody tr th:only-of-type {\n",
       "        vertical-align: middle;\n",
       "    }\n",
       "\n",
       "    .dataframe tbody tr th {\n",
       "        vertical-align: top;\n",
       "    }\n",
       "\n",
       "    .dataframe thead th {\n",
       "        text-align: right;\n",
       "    }\n",
       "</style>\n",
       "<table border=\"1\" class=\"dataframe\">\n",
       "  <thead>\n",
       "    <tr style=\"text-align: right;\">\n",
       "      <th></th>\n",
       "      <th>SessionId</th>\n",
       "      <th>ItemId</th>\n",
       "      <th>Time</th>\n",
       "    </tr>\n",
       "  </thead>\n",
       "  <tbody>\n",
       "    <tr>\n",
       "      <th>0</th>\n",
       "      <td>1</td>\n",
       "      <td>214536502</td>\n",
       "      <td>1.396835e+09</td>\n",
       "    </tr>\n",
       "    <tr>\n",
       "      <th>1</th>\n",
       "      <td>1</td>\n",
       "      <td>214536500</td>\n",
       "      <td>1.396836e+09</td>\n",
       "    </tr>\n",
       "    <tr>\n",
       "      <th>2</th>\n",
       "      <td>1</td>\n",
       "      <td>214536506</td>\n",
       "      <td>1.396836e+09</td>\n",
       "    </tr>\n",
       "    <tr>\n",
       "      <th>3</th>\n",
       "      <td>1</td>\n",
       "      <td>214577561</td>\n",
       "      <td>1.396836e+09</td>\n",
       "    </tr>\n",
       "    <tr>\n",
       "      <th>4</th>\n",
       "      <td>2</td>\n",
       "      <td>214662742</td>\n",
       "      <td>1.396847e+09</td>\n",
       "    </tr>\n",
       "  </tbody>\n",
       "</table>\n",
       "</div>"
      ],
      "text/plain": [
       "   SessionId     ItemId          Time\n",
       "0          1  214536502  1.396835e+09\n",
       "1          1  214536500  1.396836e+09\n",
       "2          1  214536506  1.396836e+09\n",
       "3          1  214577561  1.396836e+09\n",
       "4          2  214662742  1.396847e+09"
      ]
     },
     "execution_count": 45,
     "metadata": {},
     "output_type": "execute_result"
    }
   ],
   "source": [
    "train_aug = augment(train_data)\n",
    "train_aug.head()"
   ]
  },
  {
   "cell_type": "code",
   "execution_count": 46,
   "metadata": {},
   "outputs": [
    {
     "name": "stdout",
     "output_type": "stream",
     "text": [
      "train shape :  (3000000, 5)\n",
      "train_aug shape :  (3016741, 3)\n"
     ]
    }
   ],
   "source": [
    "print('train shape : ', train_data.shape)\n",
    "print('train_aug shape : ', train_aug.shape)"
   ]
  },
  {
   "cell_type": "code",
   "execution_count": 47,
   "metadata": {},
   "outputs": [],
   "source": [
    "class SessionDataset :\n",
    "\n",
    "    \"\"\"Credit to yhs-968/pyGRU4REC.\"\"\"\n",
    "    \n",
    "    def __init__(self, data, session_key = 'SessionId', item_key = 'ItemId', time_key = 'Time',\n",
    "                n_samples = -1, itemmap = None, time_sort = False) :\n",
    "        \n",
    "        \"\"\"\n",
    "        Args:\n",
    "            path: path of the data file\n",
    "            session_key, item_key, time_key: name of the fields corresponding to the sessions, items, time\n",
    "            n_samples: the number of samples to use. If -1, use the whole dataset.\n",
    "            itemmap: mapping between item IDs and item indices\n",
    "            time_sort: whether to sort the sessions by time or not\n",
    "        \"\"\"\n",
    "        \n",
    "        self.df = data\n",
    "        self.session_key = session_key\n",
    "        self.item_key = item_key\n",
    "        self.time_sort = time_sort\n",
    "        self.add_time_indices(itemmap=itemmap)\n",
    "        self.df.sort_values([session_key, time_key], inplace = True)\n",
    "        \n",
    "        # new method\n",
    "        self.click_offsets = self.get_click_offsets()\n",
    "        self.session_idx_arr = self.order_session_idx()\n",
    "        \n",
    "    def get_click_offsets(self) :\n",
    "        \n",
    "        \"\"\"\n",
    "        Return the offsets of the beginning clicks of each session IDs,\n",
    "        where the offset is calculated against the first click of the first session ID.\n",
    "        \"\"\"\n",
    "        \n",
    "        offsets = np.zeros(self.df[self.session_key].nunique() + 1, dtype = np.int32)\n",
    "        offsets[1:] = self.df.groupby(self.session_key).size().cumsum()\n",
    "        \n",
    "        return offsets\n",
    "    \n",
    "    def order_session_idx(self) :\n",
    "        \"\"\"order the session indices\"\"\"\n",
    "        \n",
    "        if self.time_sort :\n",
    "            \n",
    "            session_start_time = self.df.groupby(self.session_key)[self.time_key].min().values\n",
    "            \n",
    "            session_idx_arr = np.argsort(session_start_time)\n",
    "        \n",
    "        else :\n",
    "            #0~\n",
    "            session_idx_arr = np.arange(self.df[self.session_key].nunique())\n",
    "            \n",
    "        return session_idx_arr\n",
    "    \n",
    "    def add_time_indices(self, itemmap = None) :\n",
    "        \n",
    "        if itemmap is None :\n",
    "            item_ids = self.df[self.item_key].unique() #unique item ids\n",
    "            item2idx = pd.Series(data = np.arange(len(item_ids)), index = item_ids) # make index\n",
    "            itemmap = pd.DataFrame({self.item_key : item_ids, 'item_idx' : item2idx[item_ids].values})\n",
    "            \n",
    "        self.itemmap = itemmap\n",
    "        self.df = pd.merge(self.df, self.itemmap, on = self.item_key, how = 'inner')\n",
    "        \n",
    "    @property\n",
    "    def items(self) :\n",
    "        return self.itemmap.ItemId.unique()"
   ]
  },
  {
   "cell_type": "code",
   "execution_count": 48,
   "metadata": {},
   "outputs": [],
   "source": [
    "class SessionDataLoader :\n",
    "    \"\"\"Credit to yhs-968/pyGRU4REC.\"\"\"\n",
    "    def __init__(self, dataset, batch_size = 50) :\n",
    "        \"\"\"\n",
    "        A class for creating session-parallel mini-batches.\n",
    "        Args:\n",
    "            dataset (SessionDataset): the session dataset to generate the batches from\n",
    "            batch_size (int): size of the batch\n",
    "        \"\"\"\n",
    "        \n",
    "        self.dataset = dataset\n",
    "        self.batch_size = batch_size\n",
    "        self.done_sessions_counter = 0\n",
    "        \n",
    "        \n",
    "    def __iter__(self) :\n",
    "        \"\"\" Returns the iterator for producing session-parallel training mini-batches.\n",
    "        Yields:\n",
    "            input (B,):  Item indices that will be encoded as one-hot vectors later.\n",
    "            target (B,): a Variable that stores the target item indices\n",
    "            masks: Numpy array indicating the positions of the sessions to be terminated\n",
    "        \"\"\"\n",
    "        \n",
    "        df = self.dataset.df #???????\n",
    "        session_key = 'SessionId'\n",
    "        item_key='ItemId'\n",
    "        time_key='TimeStamp'\n",
    "        self.n_items = df[item_key].nunique()+1\n",
    "        click_offsets = self.dataset.click_offsets\n",
    "        session_idx_arr = self.dataset.session_idx_arr\n",
    "        \n",
    "        iters = np.arange(self.batch_size) #batch size\n",
    "        maxiter = iters.max()\n",
    "        \n",
    "        start = click_offsets[session_idx_arr[iters]]\n",
    "        end = click_offsets[session_idx_arr[iters] + 1]\n",
    "        mask = []\n",
    "        \n",
    "        finished = False\n",
    "        \n",
    "        while not finished:\n",
    "            minlen = (end - start).min()\n",
    "            # Item indices (for embedding) for clicks where the first sessions start\n",
    "            idx_target = df.item_idx.values[start]\n",
    "            for i in range(minlen - 1):\n",
    "                # Build inputs & targets\n",
    "                idx_input = idx_target\n",
    "                idx_target = df.item_idx.values[start + i + 1]\n",
    "                inp = idx_input\n",
    "                target = idx_target\n",
    "                yield inp, target, mask\n",
    "                \n",
    "            # click indices where a particular session meets second-to-last element\n",
    "            start = start + (minlen - 1)\n",
    "            # see if how many sessions should terminate\n",
    "            mask = np.arange(len(iters))[(end - start) <= 1]\n",
    "            self.done_sessions_counter = len(mask)\n",
    "            for idx in mask:\n",
    "                maxiter += 1\n",
    "                if maxiter >= len(click_offsets) - 1:\n",
    "                    finished = True\n",
    "                    break\n",
    "                # update the next starting/ending point\n",
    "                iters[idx] = maxiter\n",
    "                start[idx] = click_offsets[session_idx_arr[maxiter]]\n",
    "                end[idx] = click_offsets[session_idx_arr[maxiter] + 1]"
   ]
  },
  {
   "cell_type": "code",
   "execution_count": 49,
   "metadata": {},
   "outputs": [
    {
     "name": "stdout",
     "output_type": "stream",
     "text": [
      "the number of train items :  25456\n",
      "the number of train session ID :  722918\n",
      "the number of test session ID :  15325\n"
     ]
    }
   ],
   "source": [
    "train_n_items = len(train_aug['ItemId'].unique()) + 1\n",
    "print('the number of train items : ', train_n_items)\n",
    "\n",
    "train_samples_qty = len(train_aug.SessionId.unique()) + 1\n",
    "test_samples_qty = len(test_data.SessionId.unique()) + 1\n",
    "\n",
    "print('the number of train session ID : ', train_samples_qty)\n",
    "print('the number of test session ID : ', test_samples_qty)"
   ]
  },
  {
   "cell_type": "code",
   "execution_count": 50,
   "metadata": {},
   "outputs": [
    {
     "name": "stdout",
     "output_type": "stream",
     "text": [
      "create model...\n",
      "_________________________________________________________________\n",
      "Layer (type)                 Output Shape              Param #   \n",
      "=================================================================\n",
      "input_2 (InputLayer)         (50, 1, 25456)            0         \n",
      "_________________________________________________________________\n",
      "cu_dnngru_2 (CuDNNGRU)       [(50, 100), (50, 100)]    7667400   \n",
      "_________________________________________________________________\n",
      "dropout_2 (Dropout)          (50, 100)                 0         \n",
      "_________________________________________________________________\n",
      "dense_2 (Dense)              (50, 25456)               2571056   \n",
      "=================================================================\n",
      "Total params: 10,238,456\n",
      "Trainable params: 10,238,456\n",
      "Non-trainable params: 0\n",
      "_________________________________________________________________\n"
     ]
    },
    {
     "name": "stderr",
     "output_type": "stream",
     "text": [
      "/usr/local/lib/python3.5/dist-packages/ipykernel_launcher.py:10: UserWarning: Update your `Model` call to the Keras 2 API: `Model(inputs=Tensor(\"in..., outputs=[<tf.Tenso...)`\n",
      "  # Remove the CWD from sys.path while we load stuff.\n"
     ]
    }
   ],
   "source": [
    "print('create model...')\n",
    "emb_size = 50\n",
    "hidden_units = 100\n",
    "size = emb_size\n",
    "\n",
    "inputs = Input(batch_shape=(batch_size, 1, train_n_items))\n",
    "gru, gru_states = CuDNNGRU(hidden_units, stateful=True, return_state=True)(inputs)\n",
    "drop2 = Dropout(0.25)(gru)\n",
    "predictions = Dense(train_n_items, activation='softmax')(drop2)\n",
    "model = Model(input=inputs, output=[predictions])\n",
    "opt = keras.optimizers.Adam(lr=0.001, beta_1=0.9, beta_2=0.999, epsilon=None, decay=0.0, amsgrad=False)\n",
    "model.compile(loss=categorical_crossentropy, optimizer=opt)\n",
    "model.summary()"
   ]
  },
  {
   "cell_type": "code",
   "execution_count": 51,
   "metadata": {},
   "outputs": [],
   "source": [
    "def get_states(model):\n",
    "    return [K.get_value(s) for s,_ in model.state_updates]"
   ]
  },
  {
   "cell_type": "code",
   "execution_count": 52,
   "metadata": {},
   "outputs": [],
   "source": [
    "train_dataset = SessionDataset(train_aug)"
   ]
  },
  {
   "cell_type": "code",
   "execution_count": 53,
   "metadata": {},
   "outputs": [
    {
     "data": {
      "text/plain": [
       "2247"
      ]
     },
     "execution_count": 53,
     "metadata": {},
     "output_type": "execute_result"
    }
   ],
   "source": [
    "import gc\n",
    "gc.collect()"
   ]
  },
  {
   "cell_type": "code",
   "execution_count": 54,
   "metadata": {},
   "outputs": [],
   "source": [
    "def get_metrics(model, train_generator_map, recall_k=20, mrr_k=20):\n",
    "\n",
    "    test_dataset = SessionDataset(test_data, itemmap=train_generator_map)\n",
    "    test_generator = SessionDataLoader(test_dataset, batch_size=batch_size)\n",
    "\n",
    "    n = 0\n",
    "    rec_sum = 0\n",
    "    mrr_sum = 0\n",
    "\n",
    "    with tqdm(total=test_samples_qty) as pbar:\n",
    "        for feat, label, mask in test_generator:\n",
    "\n",
    "            target_oh = to_categorical(label, num_classes=train_n_items)\n",
    "            input_oh  = to_categorical(feat,  num_classes=train_n_items) \n",
    "            input_oh = np.expand_dims(input_oh, axis=1)\n",
    "            \n",
    "            pred = model.predict(input_oh, batch_size=batch_size)\n",
    "\n",
    "            for row_idx in range(feat.shape[0]):\n",
    "                pred_row = pred[row_idx] \n",
    "                label_row = target_oh[row_idx]\n",
    "\n",
    "                rec_idx =  pred_row.argsort()[-recall_k:][::-1]\n",
    "                mrr_idx =  pred_row.argsort()[-mrr_k:][::-1]\n",
    "                tru_idx = label_row.argsort()[-1:][::-1]\n",
    "\n",
    "                n += 1\n",
    "\n",
    "                if tru_idx[0] in rec_idx:\n",
    "                    rec_sum += 1\n",
    "\n",
    "                if tru_idx[0] in mrr_idx:\n",
    "                    mrr_sum += 1/int((np.where(mrr_idx == tru_idx[0])[0]+1))\n",
    "            \n",
    "            pbar.set_description(\"Evaluating model\")\n",
    "            pbar.update(test_generator.done_sessions_counter)\n",
    "\n",
    "    recall = rec_sum/n\n",
    "    mrr = mrr_sum/n\n",
    "    return (recall, recall_k), (mrr, mrr_k)"
   ]
  },
  {
   "cell_type": "code",
   "execution_count": 55,
   "metadata": {},
   "outputs": [],
   "source": [
    "def train_model(model, save_weights = False):\n",
    "    train_dataset = SessionDataset(train_data)\n",
    "    model_to_train = model\n",
    "    batch_size = 50\n",
    "\n",
    "    for epoch in range(20):\n",
    "        with tqdm(total=train_samples_qty) as pbar:\n",
    "            loader = SessionDataLoader(train_dataset, batch_size=batch_size)\n",
    "            for feat, target, mask in loader:\n",
    "                \n",
    "                real_mask = np.ones((batch_size, 1))\n",
    "                for elt in mask:\n",
    "                    real_mask[elt, :] = 0\n",
    "\n",
    "                hidden_states = get_states(model_to_train)[0]\n",
    "                hidden_states = np.multiply(real_mask, hidden_states)\n",
    "                hidden_states = np.array(hidden_states, dtype=np.float32)\n",
    "                model_to_train.layers[1].reset_states(hidden_states)\n",
    "\n",
    "                input_oh = to_categorical(feat, num_classes=loader.n_items) \n",
    "                input_oh = np.expand_dims(input_oh, axis=1)\n",
    "\n",
    "                target_oh = to_categorical(target, num_classes=loader.n_items)\n",
    "\n",
    "                tr_loss = model_to_train.train_on_batch(input_oh, target_oh)\n",
    "\n",
    "                pbar.set_description(\"Epoch {0}. Loss: {1:.5f}\".format(epoch, tr_loss))\n",
    "                pbar.update(loader.done_sessions_counter)\n",
    "            \n",
    "        if save_weights:\n",
    "            print(\"Saving weights...\")\n",
    "            model_to_train.save('./GRU4REC_3m_{}.h5'.format(epoch))\n",
    "        \n",
    "        (rec, rec_k), (mrr, mrr_k) = get_metrics(model_to_train, train_dataset.itemmap)\n",
    "\n",
    "        print(\"\\t - Recall@{} epoch {}: {:5f}\".format(rec_k, epoch, rec))\n",
    "        print(\"\\t - MRR@{}    epoch {}: {:5f}\".format(mrr_k, epoch, mrr))\n",
    "        print(\"\\n\")"
   ]
  },
  {
   "cell_type": "code",
   "execution_count": 56,
   "metadata": {},
   "outputs": [
    {
     "name": "stderr",
     "output_type": "stream",
     "text": [
      "Epoch 0. Loss: 5.31767: 100%|█████████▉| 722861/722918 [12:17<00:00, 979.81it/s] \n",
      "Evaluating model:   3%|▎         | 521/15325 [00:42<20:12, 12.21it/s]\n",
      "Epoch 1. Loss: 6.12506:   0%|          | 173/722918 [00:00<13:15, 908.58it/s]"
     ]
    },
    {
     "name": "stdout",
     "output_type": "stream",
     "text": [
      "\t - Recall@20 epoch 0: 0.232397\n",
      "\t - MRR@20    epoch 0: 0.108960\n",
      "\n",
      "\n"
     ]
    },
    {
     "name": "stderr",
     "output_type": "stream",
     "text": [
      "Epoch 1. Loss: 5.04333: 100%|█████████▉| 722861/722918 [12:18<00:00, 978.32it/s] \n",
      "Evaluating model:   3%|▎         | 521/15325 [00:42<20:05, 12.28it/s]\n",
      "Epoch 2. Loss: 5.72210:   0%|          | 173/722918 [00:00<13:17, 906.35it/s]"
     ]
    },
    {
     "name": "stdout",
     "output_type": "stream",
     "text": [
      "\t - Recall@20 epoch 1: 0.343493\n",
      "\t - MRR@20    epoch 1: 0.162013\n",
      "\n",
      "\n"
     ]
    },
    {
     "name": "stderr",
     "output_type": "stream",
     "text": [
      "Epoch 2. Loss: 4.72315: 100%|█████████▉| 722861/722918 [12:18<00:00, 978.78it/s] \n",
      "Evaluating model:   3%|▎         | 521/15325 [00:42<20:04, 12.30it/s]\n",
      "Epoch 3. Loss: 5.67544:   0%|          | 173/722918 [00:00<13:12, 912.07it/s]"
     ]
    },
    {
     "name": "stdout",
     "output_type": "stream",
     "text": [
      "\t - Recall@20 epoch 2: 0.368699\n",
      "\t - MRR@20    epoch 2: 0.173990\n",
      "\n",
      "\n"
     ]
    },
    {
     "name": "stderr",
     "output_type": "stream",
     "text": [
      "Epoch 3. Loss: 4.80227: 100%|█████████▉| 722861/722918 [12:18<00:00, 979.18it/s] \n",
      "Evaluating model:   3%|▎         | 521/15325 [00:42<20:06, 12.27it/s]\n",
      "Epoch 4. Loss: 5.64143:   0%|          | 173/722918 [00:00<13:36, 885.42it/s]"
     ]
    },
    {
     "name": "stdout",
     "output_type": "stream",
     "text": [
      "\t - Recall@20 epoch 3: 0.382397\n",
      "\t - MRR@20    epoch 3: 0.179365\n",
      "\n",
      "\n"
     ]
    },
    {
     "name": "stderr",
     "output_type": "stream",
     "text": [
      "Epoch 4. Loss: 4.60868: 100%|█████████▉| 722861/722918 [12:18<00:00, 979.09it/s] \n",
      "Evaluating model:   3%|▎         | 521/15325 [00:42<20:04, 12.29it/s]\n",
      "Epoch 5. Loss: 5.41525:   0%|          | 173/722918 [00:00<13:17, 905.99it/s]"
     ]
    },
    {
     "name": "stdout",
     "output_type": "stream",
     "text": [
      "\t - Recall@20 epoch 4: 0.395616\n",
      "\t - MRR@20    epoch 4: 0.185679\n",
      "\n",
      "\n"
     ]
    },
    {
     "name": "stderr",
     "output_type": "stream",
     "text": [
      "Epoch 5. Loss: 4.63882: 100%|█████████▉| 722861/722918 [12:18<00:00, 978.73it/s] \n",
      "Evaluating model:   3%|▎         | 521/15325 [00:42<20:04, 12.29it/s]\n",
      "Epoch 6. Loss: 5.59826:   0%|          | 173/722918 [00:00<13:22, 900.48it/s]"
     ]
    },
    {
     "name": "stdout",
     "output_type": "stream",
     "text": [
      "\t - Recall@20 epoch 5: 0.404041\n",
      "\t - MRR@20    epoch 5: 0.190478\n",
      "\n",
      "\n"
     ]
    },
    {
     "name": "stderr",
     "output_type": "stream",
     "text": [
      "Epoch 6. Loss: 4.56726: 100%|█████████▉| 722861/722918 [12:18<00:00, 978.82it/s] \n",
      "Evaluating model:   3%|▎         | 521/15325 [00:42<20:08, 12.25it/s]\n",
      "Epoch 7. Loss: 5.36577:   0%|          | 173/722918 [00:00<13:19, 903.85it/s]"
     ]
    },
    {
     "name": "stdout",
     "output_type": "stream",
     "text": [
      "\t - Recall@20 epoch 6: 0.411781\n",
      "\t - MRR@20    epoch 6: 0.188211\n",
      "\n",
      "\n"
     ]
    },
    {
     "name": "stderr",
     "output_type": "stream",
     "text": [
      "Epoch 7. Loss: 4.45906: 100%|█████████▉| 722861/722918 [12:18<00:00, 979.01it/s] \n",
      "Evaluating model:   3%|▎         | 521/15325 [00:42<20:02, 12.31it/s]\n",
      "Epoch 8. Loss: 5.50366:   0%|          | 173/722918 [00:00<13:30, 891.87it/s]"
     ]
    },
    {
     "name": "stdout",
     "output_type": "stream",
     "text": [
      "\t - Recall@20 epoch 7: 0.423014\n",
      "\t - MRR@20    epoch 7: 0.196626\n",
      "\n",
      "\n"
     ]
    },
    {
     "name": "stderr",
     "output_type": "stream",
     "text": [
      "Epoch 8. Loss: 4.43882: 100%|█████████▉| 722861/722918 [12:18<00:00, 978.87it/s] \n",
      "Evaluating model:   3%|▎         | 521/15325 [00:42<20:02, 12.31it/s]\n",
      "Epoch 9. Loss: 5.52227:   0%|          | 173/722918 [00:00<13:17, 906.38it/s]"
     ]
    },
    {
     "name": "stdout",
     "output_type": "stream",
     "text": [
      "\t - Recall@20 epoch 8: 0.429521\n",
      "\t - MRR@20    epoch 8: 0.196483\n",
      "\n",
      "\n"
     ]
    },
    {
     "name": "stderr",
     "output_type": "stream",
     "text": [
      "Epoch 9. Loss: 4.56429: 100%|█████████▉| 722861/722918 [12:18<00:00, 978.82it/s] \n",
      "Evaluating model:   3%|▎         | 521/15325 [00:42<20:05, 12.29it/s]\n",
      "Epoch 10. Loss: 5.51074:   0%|          | 173/722918 [00:00<13:08, 916.07it/s]"
     ]
    },
    {
     "name": "stdout",
     "output_type": "stream",
     "text": [
      "\t - Recall@20 epoch 9: 0.440548\n",
      "\t - MRR@20    epoch 9: 0.201787\n",
      "\n",
      "\n"
     ]
    },
    {
     "name": "stderr",
     "output_type": "stream",
     "text": [
      "Epoch 10. Loss: 4.44351: 100%|█████████▉| 722861/722918 [12:18<00:00, 978.97it/s] \n",
      "Evaluating model:   3%|▎         | 521/15325 [00:42<20:07, 12.26it/s]\n",
      "Epoch 11. Loss: 5.60814:   0%|          | 173/722918 [00:00<13:27, 895.07it/s]"
     ]
    },
    {
     "name": "stdout",
     "output_type": "stream",
     "text": [
      "\t - Recall@20 epoch 10: 0.441438\n",
      "\t - MRR@20    epoch 10: 0.205538\n",
      "\n",
      "\n"
     ]
    },
    {
     "name": "stderr",
     "output_type": "stream",
     "text": [
      "Epoch 11. Loss: 4.32603: 100%|█████████▉| 722861/722918 [12:18<00:00, 978.84it/s] \n",
      "Evaluating model:   3%|▎         | 521/15325 [00:42<20:03, 12.30it/s]\n",
      "Epoch 12. Loss: 5.48545:   0%|          | 173/722918 [00:00<13:35, 886.46it/s]"
     ]
    },
    {
     "name": "stdout",
     "output_type": "stream",
     "text": [
      "\t - Recall@20 epoch 11: 0.445822\n",
      "\t - MRR@20    epoch 11: 0.207969\n",
      "\n",
      "\n"
     ]
    },
    {
     "name": "stderr",
     "output_type": "stream",
     "text": [
      "Epoch 12. Loss: 4.58437: 100%|█████████▉| 722861/722918 [12:18<00:00, 978.48it/s] \n",
      "Evaluating model:   3%|▎         | 521/15325 [00:42<20:04, 12.29it/s]\n",
      "Epoch 13. Loss: 5.37193:   0%|          | 173/722918 [00:00<13:27, 894.72it/s]"
     ]
    },
    {
     "name": "stdout",
     "output_type": "stream",
     "text": [
      "\t - Recall@20 epoch 12: 0.452877\n",
      "\t - MRR@20    epoch 12: 0.207192\n",
      "\n",
      "\n"
     ]
    },
    {
     "name": "stderr",
     "output_type": "stream",
     "text": [
      "Epoch 13. Loss: 4.43667: 100%|█████████▉| 722861/722918 [12:18<00:00, 978.74it/s] \n",
      "Evaluating model:   3%|▎         | 521/15325 [00:42<20:03, 12.30it/s]\n",
      "Epoch 14. Loss: 5.42351:   0%|          | 173/722918 [00:00<13:10, 914.19it/s]"
     ]
    },
    {
     "name": "stdout",
     "output_type": "stream",
     "text": [
      "\t - Recall@20 epoch 13: 0.457192\n",
      "\t - MRR@20    epoch 13: 0.211592\n",
      "\n",
      "\n"
     ]
    },
    {
     "name": "stderr",
     "output_type": "stream",
     "text": [
      "Epoch 14. Loss: 4.42302: 100%|█████████▉| 722861/722918 [12:18<00:00, 979.04it/s] \n",
      "Evaluating model:   3%|▎         | 521/15325 [00:42<20:00, 12.33it/s]\n",
      "Epoch 15. Loss: 5.51053:   0%|          | 173/722918 [00:00<13:13, 911.32it/s]"
     ]
    },
    {
     "name": "stdout",
     "output_type": "stream",
     "text": [
      "\t - Recall@20 epoch 14: 0.454932\n",
      "\t - MRR@20    epoch 14: 0.212277\n",
      "\n",
      "\n"
     ]
    },
    {
     "name": "stderr",
     "output_type": "stream",
     "text": [
      "Epoch 15. Loss: 4.27435: 100%|█████████▉| 722861/722918 [12:17<00:00, 979.60it/s] \n",
      "Evaluating model:   3%|▎         | 521/15325 [00:42<19:59, 12.34it/s]\n",
      "Epoch 16. Loss: 5.49894:   0%|          | 173/722918 [00:00<13:19, 903.69it/s]"
     ]
    },
    {
     "name": "stdout",
     "output_type": "stream",
     "text": [
      "\t - Recall@20 epoch 15: 0.466712\n",
      "\t - MRR@20    epoch 15: 0.216110\n",
      "\n",
      "\n"
     ]
    },
    {
     "name": "stderr",
     "output_type": "stream",
     "text": [
      "Epoch 16. Loss: 4.30301: 100%|█████████▉| 722861/722918 [12:18<00:00, 978.87it/s] \n",
      "Evaluating model:   3%|▎         | 521/15325 [00:42<20:01, 12.32it/s]\n",
      "Epoch 17. Loss: 5.53414:   0%|          | 173/722918 [00:00<13:21, 901.27it/s]"
     ]
    },
    {
     "name": "stdout",
     "output_type": "stream",
     "text": [
      "\t - Recall@20 epoch 16: 0.463288\n",
      "\t - MRR@20    epoch 16: 0.216035\n",
      "\n",
      "\n"
     ]
    },
    {
     "name": "stderr",
     "output_type": "stream",
     "text": [
      "Epoch 17. Loss: 4.49023: 100%|█████████▉| 722861/722918 [12:18<00:00, 979.25it/s] \n",
      "Evaluating model:   3%|▎         | 521/15325 [00:42<19:55, 12.39it/s]\n",
      "Epoch 18. Loss: 5.56155:   0%|          | 173/722918 [00:00<13:10, 914.52it/s]"
     ]
    },
    {
     "name": "stdout",
     "output_type": "stream",
     "text": [
      "\t - Recall@20 epoch 17: 0.465411\n",
      "\t - MRR@20    epoch 17: 0.218028\n",
      "\n",
      "\n"
     ]
    },
    {
     "name": "stderr",
     "output_type": "stream",
     "text": [
      "Epoch 18. Loss: 4.31517: 100%|█████████▉| 722861/722918 [12:18<00:00, 979.12it/s] \n",
      "Evaluating model:   3%|▎         | 521/15325 [00:42<19:58, 12.35it/s]\n",
      "Epoch 19. Loss: 5.47426:   0%|          | 173/722918 [00:00<13:18, 905.31it/s]"
     ]
    },
    {
     "name": "stdout",
     "output_type": "stream",
     "text": [
      "\t - Recall@20 epoch 18: 0.465959\n",
      "\t - MRR@20    epoch 18: 0.219745\n",
      "\n",
      "\n"
     ]
    },
    {
     "name": "stderr",
     "output_type": "stream",
     "text": [
      "Epoch 19. Loss: 4.49321: 100%|█████████▉| 722861/722918 [12:18<00:00, 979.12it/s] \n",
      "Evaluating model:   3%|▎         | 521/15325 [00:41<19:52, 12.41it/s]"
     ]
    },
    {
     "name": "stdout",
     "output_type": "stream",
     "text": [
      "\t - Recall@20 epoch 19: 0.467671\n",
      "\t - MRR@20    epoch 19: 0.220300\n",
      "\n",
      "\n"
     ]
    },
    {
     "name": "stderr",
     "output_type": "stream",
     "text": [
      "\n"
     ]
    }
   ],
   "source": [
    "train_model(model, False)"
   ]
  },
  {
   "cell_type": "code",
   "execution_count": 57,
   "metadata": {},
   "outputs": [],
   "source": [
    "import matplotlib.pyplot as plt"
   ]
  },
  {
   "cell_type": "code",
   "execution_count": 59,
   "metadata": {},
   "outputs": [],
   "source": [
    "recall = [0.232397, 0.343493, 0.368699, 0.382397, 0.395616, 0.404041, 0.411781, 0.423014, 0.429521,\n",
    "         0.440548, 0.441438, 0.445822, 0.452877, 0.457192, 0.454932, 0.466712, 0.463288, 0.465411,\n",
    "         0.465959, 0.467671]\n",
    "\n",
    "mrr = [0.108960, 0.162013, 0.173990, 0.179365, 0.185679, 0.190478, 0.188211, 0.196626, 0.196483,\n",
    "      0.201787, 0.205538, 0.207969, 0.207192, 0.211592, 0.212277, 0.216110, 0.216035, 0.218028, \n",
    "       0.219745, 0.220300]\n",
    "\n",
    "ii = range(10)"
   ]
  },
  {
   "cell_type": "code",
   "execution_count": 62,
   "metadata": {},
   "outputs": [
    {
     "data": {
      "text/plain": [
       "[<matplotlib.lines.Line2D at 0x7fa0aee113c8>]"
      ]
     },
     "execution_count": 62,
     "metadata": {},
     "output_type": "execute_result"
    },
    {
     "data": {
      "image/png": "[encoded data removed]",
      "text/plain": [
       "<Figure size 432x288 with 1 Axes>"
      ]
     },
     "metadata": {
      "needs_background": "light"
     },
     "output_type": "display_data"
    }
   ],
   "source": [
    "plt.plot(recall)\n",
    "plt.plot(mrr)"
   ]
  },
  {
   "cell_type": "code",
   "execution_count": null,
   "metadata": {},
   "outputs": [],
   "source": []
  }
 ],
 "metadata": {
  "kernelspec": {
   "display_name": "Python 3",
   "language": "python",
   "name": "python3"
  },
  "language_info": {
   "codemirror_mode": {
    "name": "ipython",
    "version": 3
   },
   "file_extension": ".py",
   "mimetype": "text/x-python",
   "name": "python",
   "nbconvert_exporter": "python",
   "pygments_lexer": "ipython3",
   "version": "3.5.2"
  }
 },
 "nbformat": 4,
 "nbformat_minor": 2
}
