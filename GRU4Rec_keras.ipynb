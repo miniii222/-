{
 "cells": [
  {
   "cell_type": "markdown",
   "metadata": {},
   "source": [
    "https://github.com/pcerdam/KerasGRU4Rec/blob/master/model/gru4rec.py"
   ]
  },
  {
   "cell_type": "code",
   "execution_count": 3,
   "metadata": {},
   "outputs": [],
   "source": [
    "import argparse\n",
    "import numpy as np\n",
    "import pandas as pd\n",
    "from tqdm import tqdm\n",
    "\n",
    "import tensorflow as tf\n",
    "config = tf.ConfigProto()\n",
    "config.gpu_options.allow_growth = True #allow_growth 옵션 : 런타임 할당에 따라 GPU 메모리 할당하려고 시도하는 옵션.\n",
    "# 처음에 메모리를 거의 할당하지 않고 세션을 시작한 후, 그 후에 더 많은 GPU 메모리가 필요할 때 TF필요한 GPU 메모리 영역을 확장한다.\n",
    "\n",
    "import keras\n",
    "import keras.backend as K\n",
    "from keras.models import Model\n",
    "from keras.utils import to_categorical\n",
    "from keras.callbacks import ModelCheckpoint\n",
    "from keras.losses import categorical_crossentropy\n",
    "from keras.layers import Input, Dense, Dropout, CuDNNGRU, Embedding"
   ]
  },
  {
   "cell_type": "code",
   "execution_count": 7,
   "metadata": {},
   "outputs": [],
   "source": [
    "class SessionDataset :\n",
    "    \"\"\"Credit to yhs-968/pyGRU4REC.\"\"\"\n",
    "    \n",
    "    def __init__(self, data, session_key = 'SessionId', item_key = 'ItemId', time_key = 'Time',\n",
    "                n_samples = -1, itemmap = None, time_sort = False) :\n",
    "        \n",
    "        \"\"\"\n",
    "        Args:\n",
    "            path: path of the data file\n",
    "            session_key, item_key, time_key: name of the fields corresponding to the sessions, items, time\n",
    "            n_samples: the number of samples to use. If -1, use the whole dataset.\n",
    "            itemmap: mapping between item IDs and item indices\n",
    "            time_sort: whether to sort the sessions by time or not\n",
    "        \"\"\"\n",
    "        \n",
    "        self.df = data\n",
    "        self.session_key = session_key\n",
    "        self.item_key = item_key\n",
    "        self.time_sort = time_sort\n",
    "        self.add_time_indices(itemmap=itemmap)\n",
    "        self.df.sort_values([session_key, time_key], inplace = True)\n",
    "        \n",
    "        # new method\n",
    "        self.click_offsets = self.get_click_offsets() #각 sessionID 별 시작 index\n",
    "        self.session_idx_arr = self.order_session_idx()\n",
    "        \n",
    "    def get_click_offsets() :\n",
    "        \n",
    "        \"\"\"\n",
    "        Return the offsets of the beginning clicks of each session IDs,\n",
    "        where the offset is calculated against the first click of the first session ID.\n",
    "        \"\"\"\n",
    "        \n",
    "        offsets = np.zeros(self.df[self.session_key].nunique() + 1, dtype = np.int32)\n",
    "        offsets[1:] = self.df.groupby(self.session_key).size().cumsum()\n",
    "        \n",
    "        return offsets\n",
    "    \n",
    "    def order_session_idx(self) :\n",
    "        \"\"\"order the session indices\"\"\"\n",
    "        \n",
    "        if self.time_sort :\n",
    "            # 각 세션별 시작 타임의 최솟값\n",
    "            session_start_time = self.df.groupby(self.session_key)[self.time_key].min().values\n",
    "            # 최솟값들 중에서 작은 것들 순서\n",
    "            session_idx_arr = np.argsort(session_start_time)\n",
    "        \n",
    "        else :\n",
    "            #0~\n",
    "            session_idx_arr = np.arange(self.df[self.session_key].nunique())\n",
    "            \n",
    "        return session_idx_arr\n",
    "    \n",
    "    def add_time_indices(self, itemmap = None) :\n",
    "        \"\"\" \n",
    "        Add item index column named \"item_idx\" to the df\n",
    "        Args:\n",
    "            itemmap (pd.DataFrame): mapping between the item Ids and indices\n",
    "        \"\"\"\n",
    "        \n",
    "        if itemmap is None :\n",
    "            item_ids = self.df[self.item_key].unique() #unique item ids\n",
    "            item2idx = pd.Series(data = np.arange(len(item_ids)),\n",
    "                                index = item_ids) # make index\n",
    "            itemmap = pd.DataFrame({self.item_key : item_ids,\n",
    "                                   'item_idx' : item2idx[item_ids].values})\n",
    "            \n",
    "        self.itemmap = itemmap\n",
    "        self.df = pd.merge(self.df, self.itemmap, on = self.item_key, how = 'inner')\n",
    "        \n",
    "    @property\n",
    "    def items(self) :\n",
    "        return self.itemmap.ItemId.unique()"
   ]
  },
  {
   "cell_type": "code",
   "execution_count": 8,
   "metadata": {},
   "outputs": [],
   "source": [
    "class SessionDataLoader :\n",
    "    \"\"\"Credit to yhs-968/pyGRU4REC.\"\"\"\n",
    "    def __init__(self, dataset, batch_size = 50) :\n",
    "        \"\"\"\n",
    "        A class for creating session-parallel mini-batches.\n",
    "        Args:\n",
    "            dataset (SessionDataset): the session dataset to generate the batches from\n",
    "            batch_size (int): size of the batch\n",
    "        \"\"\"\n",
    "        \n",
    "        self.dataset = dataset\n",
    "        self.batch_size = batch_size\n",
    "        self.done_sessions_counter = 0\n",
    "        \n",
    "        \n",
    "    def __iter__(self) :\n",
    "        \"\"\" Returns the iterator for producing session-parallel training mini-batches.\n",
    "        Yields:\n",
    "            input (B,):  Item indices that will be encoded as one-hot vectors later.\n",
    "            target (B,): a Variable that stores the target item indices\n",
    "            masks: Numpy array indicating the positions of the sessions to be terminated\n",
    "        \"\"\"\n",
    "        \n",
    "        df = self.dataset.df #???????\n",
    "        session_key = 'SessionId'\n",
    "        item_key='ItemId'\n",
    "        time_key='TimeStamp'\n",
    "        self.n_items = df[item_key].nunique()+1\n",
    "        click_offsets = self.dataset.click_offsets\n",
    "        session_idx_arr = self.dataset.session_idx_arr\n",
    "        \n",
    "        iters = np.arange(self.batch_size) #batch size\n",
    "        maxiter = iters.max()\n",
    "        \n",
    "        start = click_offsets[session_idx_arr[iters]]\n",
    "        end = click_offsets[session_idx_arr[iters] + 1]\n",
    "        mask = []\n",
    "        \n",
    "        finished = False\n",
    "        \n",
    "        while not finished:\n",
    "            minlen = (end - start).min()\n",
    "            # Item indices (for embedding) for clicks where the first sessions start\n",
    "            idx_target = df.item_idx.values[start]\n",
    "            for i in range(minlen - 1):\n",
    "                # Build inputs & targets\n",
    "                idx_input = idx_target\n",
    "                idx_target = df.item_idx.values[start + i + 1]\n",
    "                inp = idx_input\n",
    "                target = idx_target\n",
    "                yield inp, target, mask\n",
    "                \n",
    "            # click indices where a particular session meets second-to-last element\n",
    "            start = start + (minlen - 1)\n",
    "            # see if how many sessions should terminate\n",
    "            mask = np.arange(len(iters))[(end - start) <= 1]\n",
    "            self.done_sessions_counter = len(mask)\n",
    "            for idx in mask:\n",
    "                maxiter += 1\n",
    "                if maxiter >= len(click_offsets) - 1:\n",
    "                    finished = True\n",
    "                    break\n",
    "                # update the next starting/ending point\n",
    "                iters[idx] = maxiter\n",
    "                start[idx] = click_offsets[session_idx_arr[maxiter]]\n",
    "                end[idx] = click_offsets[session_idx_arr[maxiter] + 1]\n",
    "        "
   ]
  },
  {
   "cell_type": "code",
   "execution_count": 10,
   "metadata": {},
   "outputs": [],
   "source": [
    "def create_model() :\n",
    "    emb_size = 50\n",
    "    hidden_units = 100\n",
    "    size = emb_size\n",
    "    \n",
    "    inputs = Input(batch_shape=(args.batch_size, 1, args.train_n_items)) #len(args.train_data['ItemId'].unique()) + 1\n",
    "    #input : batch_size, 1, ItemId unique\n",
    "    \n",
    "    gru, gru_states = CuDNNGRU(hidden_units, stateful=True, return_state=True)(inputs) #Fast GRU implementation backed by cuDNN\n",
    "    #stateful :  If True, the last state for each sample at index i in a batch will be used as initial state for the sample of index i in the following batch.\n",
    "    #return_state :  Whether to return the last state in addition to the output.\n",
    "    \n",
    "    drop2 = Dropout(0.25)(gru)\n",
    "    predictions = Dense(args.train_n_items, activation = 'softmax')(drop2)\n",
    "    opt = keras.optimizers.Adam(lr = 0.001, beta_1=0.9, beta_2=0.999, epsilon=None, decay = 0, amsgrad = False)\n",
    "    \n",
    "    #loss function\n",
    "    model.compile(loss = categorical_crossentropy, optimizer = opt)\n",
    "    model.summary()\n",
    "    \n",
    "    filepath = './model_checkpint.h5'\n",
    "    checkpoint = ModelCheckpoint(filepath, monitor = 'loss', verbose = 2, save_best_only=True, mode = 'min')\n",
    "    #Save the model after every epoch\n",
    "    #save_best_only : the latest best model according tothe quantity monitored will not be overwritten\n",
    "    #mode : save min model\n",
    "    \n",
    "    return model"
   ]
  },
  {
   "cell_type": "code",
   "execution_count": 12,
   "metadata": {},
   "outputs": [],
   "source": [
    "def get_state(model) :\n",
    "    # get_value : Returns the value of a variable.\n",
    "    # state_updates\n",
    "    return [K.get_value(s) for s, _ in model.state_updates]"
   ]
  },
  {
   "cell_type": "code",
   "execution_count": 15,
   "metadata": {},
   "outputs": [],
   "source": [
    "def get_metrics(model, args, train_generator_map, recall_k = 20, mrr_k = 20) :\n",
    "    \n",
    "    test_dataset = SessionDataset(args.test_data, itemmap=train_generator_map)\n",
    "    test_generator = SessionDataLoader(test_dataset, batch_size=args.batch_size)\n",
    "    \n",
    "    n = 0\n",
    "    rec_sum = 0; mrr_sum = 0\n",
    "    \n",
    "    with tqdm(total = args.test_samples_qty) as pbar :\n",
    "        for feat, label, mask in test_generator :\n",
    "            \n",
    "            # to_categorical : Converts a class vector (integers) to binary class matrix. (one-hot)\n",
    "            # - num_classes: total number of classes(데이터수 X 클래스 수)\n",
    "            target_oh = to_categorical(label, num_classes = args.train_n_items)\n",
    "            input_oh = to_categorical(feat, num_classes = args.train_n_items)\n",
    "            input_oh = np.expand_dims(input_oh, axis = 1)\n",
    "            \n",
    "            pred = model.predict(input_oh, batch_size = args.batch_size)\n",
    "            \n",
    "            for row_idx in rnage(feat.shape[0]) :\n",
    "                pred_row = pred[row_idx]\n",
    "                label_row = target_oh[row_idx]\n",
    "                \n",
    "                rec_idx = pred_row.argsort()[-recall_k:][::-1]\n",
    "                mrr_idx = pred_row.argsort()[-mrr_k:][::-1]\n",
    "                tru_idx = label_row.argsort()[-1:][::-1]\n",
    "                \n",
    "                n += 1\n",
    "                \n",
    "                if tru_idx[0] in rec_idx :\n",
    "                    rec_sum += 1\n",
    "                    \n",
    "                if tru_idx[0] in mrr_idx :\n",
    "                    mrr_sum += 1/int((np.where(mrr_idx == tru_idx[0])[0] + 1))\n",
    "                    \n",
    "            pbar.set_description('Evaluation model')\n",
    "            pbar.update(test_generator.done_sessions_counter)\n",
    "            \n",
    "    recall = rec_sum / n\n",
    "    mrr = mrr_sum / n\n",
    "    \n",
    "    return (recall, recall_k), (mrr, mrr_k)"
   ]
  },
  {
   "cell_type": "code",
   "execution_count": 16,
   "metadata": {},
   "outputs": [],
   "source": [
    "def train_model(model, args, save_weights = False) :\n",
    "    train_dataset = SessionDataset(args.train_data)\n",
    "    model_to_train = model\n",
    "    batch_size = args.batch_size\n",
    "    \n",
    "    for epoch in range(1, 10):\n",
    "        with tqdm(total=args.train_samples_qty) as pbar:\n",
    "            loader = SessionDataLoader(train_dataset, batch_size=batch_size)\n",
    "            for feat, target, mask in loader:\n",
    "                \n",
    "                real_mask = np.ones((batch_size, 1))\n",
    "                for elt in mask:\n",
    "                    real_mask[elt, :] = 0\n",
    "\n",
    "                hidden_states = get_states(model_to_train)[0]\n",
    "                hidden_states = np.multiply(real_mask, hidden_states)\n",
    "                hidden_states = np.array(hidden_states, dtype=np.float32)\n",
    "                model_to_train.layers[1].reset_states(hidden_states)\n",
    "\n",
    "                input_oh = to_categorical(feat, num_classes=loader.n_items) \n",
    "                input_oh = np.expand_dims(input_oh, axis=1)\n",
    "\n",
    "                target_oh = to_categorical(target, num_classes=loader.n_items)\n",
    "\n",
    "                tr_loss = model_to_train.train_on_batch(input_oh, target_oh)\n",
    "\n",
    "                pbar.set_description(\"Epoch {0}. Loss: {1:.5f}\".format(epoch, tr_loss))\n",
    "                pbar.update(loader.done_sessions_counter)\n",
    "            \n",
    "        if save_weights:\n",
    "            print(\"Saving weights...\")\n",
    "            model_to_train.save('./GRU4REC_{}.h5'.format(epoch))\n",
    "        \n",
    "        (rec, rec_k), (mrr, mrr_k) = get_metrics(model_to_train, args, train_dataset.itemmap)\n",
    "\n",
    "        print(\"\\t - Recall@{} epoch {}: {:5f}\".format(rec_k, epoch, rec))\n",
    "        print(\"\\t - MRR@{}    epoch {}: {:5f}\".format(mrr_k, epoch, mrr))\n",
    "        print(\"\\n\")"
   ]
  },
  {
   "cell_type": "code",
   "execution_count": 23,
   "metadata": {},
   "outputs": [
    {
     "data": {
      "text/plain": [
       "['rsc15_train_tr.pkl',\n",
       " 'rsc15_test.pkl',\n",
       " 'rsc15_train_full.pkl',\n",
       " 'rsc15_train_valid.txt']"
      ]
     },
     "execution_count": 23,
     "metadata": {},
     "output_type": "execute_result"
    }
   ],
   "source": [
    "os.listdir('./data/preprocessed/')"
   ]
  },
  {
   "cell_type": "markdown",
   "metadata": {},
   "source": [
    "# main"
   ]
  },
  {
   "cell_type": "code",
   "execution_count": 29,
   "metadata": {},
   "outputs": [],
   "source": [
    "train_path = './data/preprocessed/rsc15_train_tr.pkl'\n",
    "dev_path = './data/preprocessed/rsc15_train_valid.pkl'\n",
    "test_path = './data/preprocessed/rsc15_test.pkl'\n",
    "batch_size = 512"
   ]
  },
  {
   "cell_type": "markdown",
   "metadata": {},
   "source": [
    "https://worthpreading.tistory.com/56"
   ]
  },
  {
   "cell_type": "code",
   "execution_count": 41,
   "metadata": {},
   "outputs": [
    {
     "data": {
      "text/plain": [
       "_StoreAction(option_strings=['--batch-size'], dest='batch_size', nargs=None, const=None, default=512, type=<class 'str'>, choices=None, help=None, metavar=None)"
      ]
     },
     "execution_count": 41,
     "metadata": {},
     "output_type": "execute_result"
    }
   ],
   "source": [
    "parser = argparse.ArgumentParser(description='Keras GRU4REC: session-based recommendations')\n",
    "parser.add_argument('--resume', type=str, help='stored model path to continue training')\n",
    "parser.add_argument('--train-path', type=str, default='./data/preprocessed/rsc15_train_tr.pkl')\n",
    "parser.add_argument('--dev-path', type=str, default='./data/preprocessed/rsc15_train_valid.pkl')\n",
    "parser.add_argument('--test-path', type=str, default='./data/preprocessed/rsc15_test.pkl')\n",
    "parser.add_argument('--batch-size', type=str, default=512)"
   ]
  },
  {
   "cell_type": "code",
   "execution_count": 42,
   "metadata": {},
   "outputs": [
    {
     "name": "stderr",
     "output_type": "stream",
     "text": [
      "usage: ipykernel_launcher.py [-h] [--resume RESUME] [--train-path TRAIN_PATH]\n",
      "                             [--dev-path DEV_PATH] [--test-path TEST_PATH]\n",
      "                             [--batch-size BATCH_SIZE]\n",
      "ipykernel_launcher.py: error: unrecognized arguments: -f /run/user/1005/jupyter/kernel-1d23836a-d7a7-456a-8beb-53d20179f9ac.json\n"
     ]
    },
    {
     "ename": "SystemExit",
     "evalue": "2",
     "output_type": "error",
     "traceback": [
      "An exception has occurred, use %tb to see the full traceback.\n",
      "\u001b[0;31mSystemExit\u001b[0m\u001b[0;31m:\u001b[0m 2\n"
     ]
    },
    {
     "name": "stderr",
     "output_type": "stream",
     "text": [
      "/usr/local/lib/python3.5/dist-packages/IPython/core/interactiveshell.py:3299: UserWarning: To exit: use 'exit', 'quit', or Ctrl-D.\n",
      "  warn(\"To exit: use 'exit', 'quit', or Ctrl-D.\", stacklevel=1)\n"
     ]
    }
   ],
   "source": [
    "args = parser.parse_args()"
   ]
  },
  {
   "cell_type": "code",
   "execution_count": 34,
   "metadata": {},
   "outputs": [],
   "source": [
    "train_data = pd.read_pickle(train_path)\n",
    "dev_data   = pd.read_pickle(dev_path)\n",
    "test_data  = pd.read_pickle(test_path)"
   ]
  },
  {
   "cell_type": "code",
   "execution_count": 37,
   "metadata": {},
   "outputs": [
    {
     "data": {
      "text/html": [
       "<div>\n",
       "<style scoped>\n",
       "    .dataframe tbody tr th:only-of-type {\n",
       "        vertical-align: middle;\n",
       "    }\n",
       "\n",
       "    .dataframe tbody tr th {\n",
       "        vertical-align: top;\n",
       "    }\n",
       "\n",
       "    .dataframe thead th {\n",
       "        text-align: right;\n",
       "    }\n",
       "</style>\n",
       "<table border=\"1\" class=\"dataframe\">\n",
       "  <thead>\n",
       "    <tr style=\"text-align: right;\">\n",
       "      <th></th>\n",
       "      <th>SessionId</th>\n",
       "      <th>ItemId</th>\n",
       "      <th>Time</th>\n",
       "    </tr>\n",
       "  </thead>\n",
       "  <tbody>\n",
       "    <tr>\n",
       "      <th>0</th>\n",
       "      <td>1</td>\n",
       "      <td>214536502</td>\n",
       "      <td>1.396835e+09</td>\n",
       "    </tr>\n",
       "    <tr>\n",
       "      <th>1</th>\n",
       "      <td>1</td>\n",
       "      <td>214536500</td>\n",
       "      <td>1.396836e+09</td>\n",
       "    </tr>\n",
       "    <tr>\n",
       "      <th>2</th>\n",
       "      <td>1</td>\n",
       "      <td>214536506</td>\n",
       "      <td>1.396836e+09</td>\n",
       "    </tr>\n",
       "    <tr>\n",
       "      <th>3</th>\n",
       "      <td>1</td>\n",
       "      <td>214577561</td>\n",
       "      <td>1.396836e+09</td>\n",
       "    </tr>\n",
       "    <tr>\n",
       "      <th>4</th>\n",
       "      <td>2</td>\n",
       "      <td>214662742</td>\n",
       "      <td>1.396847e+09</td>\n",
       "    </tr>\n",
       "  </tbody>\n",
       "</table>\n",
       "</div>"
      ],
      "text/plain": [
       "   SessionId     ItemId          Time\n",
       "0          1  214536502  1.396835e+09\n",
       "1          1  214536500  1.396836e+09\n",
       "2          1  214536506  1.396836e+09\n",
       "3          1  214577561  1.396836e+09\n",
       "4          2  214662742  1.396847e+09"
      ]
     },
     "execution_count": 37,
     "metadata": {},
     "output_type": "execute_result"
    }
   ],
   "source": [
    "train_data.head()"
   ]
  },
  {
   "cell_type": "code",
   "execution_count": 38,
   "metadata": {},
   "outputs": [
    {
     "name": "stdout",
     "output_type": "stream",
     "text": [
      "train data SessionID unique + 1 7953886\n",
      "tetst data SessionID unique + 1 15325\n"
     ]
    }
   ],
   "source": [
    "train_n_items = len(train_data['ItemId'].unique()) + 1\n",
    "\n",
    "train_samples_qty = len(train_data['SessionId'].unique()) + 1\n",
    "test_samples_qty = len(test_data['SessionId'].unique()) + 1\n",
    "\n",
    "print('train data SessionID unique + 1', train_samples_qty)\n",
    "print('tetst data SessionID unique + 1', test_samples_qty)"
   ]
  },
  {
   "cell_type": "code",
   "execution_count": 40,
   "metadata": {},
   "outputs": [
    {
     "ename": "TypeError",
     "evalue": "create_model() missing 1 required positional argument: 'args'",
     "output_type": "error",
     "traceback": [
      "\u001b[0;31m---------------------------------------------------------------------------\u001b[0m",
      "\u001b[0;31mTypeError\u001b[0m                                 Traceback (most recent call last)",
      "\u001b[0;32m<ipython-input-40-47626dceac7d>\u001b[0m in \u001b[0;36m<module>\u001b[0;34m\u001b[0m\n\u001b[1;32m     10\u001b[0m         \u001b[0mmodel\u001b[0m \u001b[0;34m=\u001b[0m \u001b[0mcreate_model\u001b[0m\u001b[0;34m(\u001b[0m\u001b[0;34m)\u001b[0m\u001b[0;34m\u001b[0m\u001b[0m\n\u001b[1;32m     11\u001b[0m \u001b[0;32melse\u001b[0m\u001b[0;34m:\u001b[0m\u001b[0;34m\u001b[0m\u001b[0m\n\u001b[0;32m---> 12\u001b[0;31m     \u001b[0mmodel\u001b[0m \u001b[0;34m=\u001b[0m \u001b[0mcreate_model\u001b[0m\u001b[0;34m(\u001b[0m\u001b[0;34m)\u001b[0m\u001b[0;34m\u001b[0m\u001b[0m\n\u001b[0m",
      "\u001b[0;31mTypeError\u001b[0m: create_model() missing 1 required positional argument: 'args'"
     ]
    }
   ],
   "source": [
    "#if resume training data -> resume = True\n",
    "resume = False\n",
    "\n",
    "if resume:\n",
    "    try:\n",
    "        model = keras.models.load_model(resume)\n",
    "        print(\"Model checkpoint '{}' loaded!\".format(resume))\n",
    "    except OSError:\n",
    "        print(\"Model checkpoint could not be loaded. Training from scratch...\")\n",
    "        model = create_model()\n",
    "else:\n",
    "    model = create_model()"
   ]
  },
  {
   "cell_type": "code",
   "execution_count": null,
   "metadata": {},
   "outputs": [],
   "source": [
    "train_model(model, args, save_weights=True)"
   ]
  }
 ],
 "metadata": {
  "kernelspec": {
   "display_name": "Python 3",
   "language": "python",
   "name": "python3"
  },
  "language_info": {
   "codemirror_mode": {
    "name": "ipython",
    "version": 3
   },
   "file_extension": ".py",
   "mimetype": "text/x-python",
   "name": "python",
   "nbconvert_exporter": "python",
   "pygments_lexer": "ipython3",
   "version": "3.5.2"
  }
 },
 "nbformat": 4,
 "nbformat_minor": 2
}
