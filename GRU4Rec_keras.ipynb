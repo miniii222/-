{
 "cells": [
  {
   "cell_type": "code",
   "execution_count": 2,
   "metadata": {},
   "outputs": [
    {
     "name": "stderr",
     "output_type": "stream",
     "text": [
      "Using TensorFlow backend.\n"
     ]
    }
   ],
   "source": [
    "import numpy as np\n",
    "import pandas as pd\n",
    "from tqdm import tqdm\n",
    "\n",
    "import tensorflow as tf\n",
    "config = tf.ConfigProto()\n",
    "config.gpu_options.allow_growth = True #allow_growth 옵션 : 런타임 할당에 따라 GPU 메모리 할당하려고 시도하는 옵션.\n",
    "# 처음에 메모리를 거의 할당하지 않고 세션을 시작한 후, 그 후에 더 많은 GPU 메모리가 필요할 때 TF필요한 GPU 메모리 영역을 확장한다.\n",
    "\n",
    "import keras\n",
    "import keras.backend as K\n",
    "from keras.models import Model\n",
    "from keras.utils import to_categorical\n",
    "from keras.callbacks import ModelCheckpoint\n",
    "from keras.losses import categorical_crossentropy\n",
    "from keras.layers import Input, Dense, Dropout, CuDNNGRU, Embedding"
   ]
  },
  {
   "cell_type": "markdown",
   "metadata": {},
   "source": [
    "# import dataset"
   ]
  },
  {
   "cell_type": "code",
   "execution_count": 1,
   "metadata": {},
   "outputs": [],
   "source": [
    "train_path = './data/preprocessed/rsc15_train_tr.pkl'\n",
    "dev_path = './data/preprocessed/rsc15_train_valid.pkl'\n",
    "test_path = './data/preprocessed/rsc15_test.pkl'\n",
    "batch_size = 512"
   ]
  },
  {
   "cell_type": "code",
   "execution_count": 3,
   "metadata": {},
   "outputs": [
    {
     "name": "stdout",
     "output_type": "stream",
     "text": [
      "train data shape :  (31579006, 3)\n",
      "dev data shape :  (58233, 3)\n",
      "test data shape :  (71222, 3)\n"
     ]
    }
   ],
   "source": [
    "train_data = pd.read_pickle(train_path)\n",
    "dev_data   = pd.read_pickle(dev_path)\n",
    "test_data  = pd.read_pickle(test_path)\n",
    "\n",
    "print('train data shape : ', train_data.shape)\n",
    "print('dev data shape : ', dev_data.shape)\n",
    "print('test data shape : ', test_data.shape)"
   ]
  },
  {
   "cell_type": "code",
   "execution_count": 5,
   "metadata": {},
   "outputs": [
    {
     "data": {
      "text/html": [
       "<div>\n",
       "<style scoped>\n",
       "    .dataframe tbody tr th:only-of-type {\n",
       "        vertical-align: middle;\n",
       "    }\n",
       "\n",
       "    .dataframe tbody tr th {\n",
       "        vertical-align: top;\n",
       "    }\n",
       "\n",
       "    .dataframe thead th {\n",
       "        text-align: right;\n",
       "    }\n",
       "</style>\n",
       "<table border=\"1\" class=\"dataframe\">\n",
       "  <thead>\n",
       "    <tr style=\"text-align: right;\">\n",
       "      <th></th>\n",
       "      <th>SessionId</th>\n",
       "      <th>ItemId</th>\n",
       "      <th>Time</th>\n",
       "    </tr>\n",
       "  </thead>\n",
       "  <tbody>\n",
       "    <tr>\n",
       "      <th>0</th>\n",
       "      <td>1</td>\n",
       "      <td>214536502</td>\n",
       "      <td>1.396835e+09</td>\n",
       "    </tr>\n",
       "    <tr>\n",
       "      <th>1</th>\n",
       "      <td>1</td>\n",
       "      <td>214536500</td>\n",
       "      <td>1.396836e+09</td>\n",
       "    </tr>\n",
       "    <tr>\n",
       "      <th>2</th>\n",
       "      <td>1</td>\n",
       "      <td>214536506</td>\n",
       "      <td>1.396836e+09</td>\n",
       "    </tr>\n",
       "  </tbody>\n",
       "</table>\n",
       "</div>"
      ],
      "text/plain": [
       "   SessionId     ItemId          Time\n",
       "0          1  214536502  1.396835e+09\n",
       "1          1  214536500  1.396836e+09\n",
       "2          1  214536506  1.396836e+09"
      ]
     },
     "execution_count": 5,
     "metadata": {},
     "output_type": "execute_result"
    }
   ],
   "source": [
    "train_data.head(3)"
   ]
  },
  {
   "cell_type": "code",
   "execution_count": 6,
   "metadata": {},
   "outputs": [
    {
     "data": {
      "text/html": [
       "<div>\n",
       "<style scoped>\n",
       "    .dataframe tbody tr th:only-of-type {\n",
       "        vertical-align: middle;\n",
       "    }\n",
       "\n",
       "    .dataframe tbody tr th {\n",
       "        vertical-align: top;\n",
       "    }\n",
       "\n",
       "    .dataframe thead th {\n",
       "        text-align: right;\n",
       "    }\n",
       "</style>\n",
       "<table border=\"1\" class=\"dataframe\">\n",
       "  <thead>\n",
       "    <tr style=\"text-align: right;\">\n",
       "      <th></th>\n",
       "      <th>SessionId</th>\n",
       "      <th>ItemId</th>\n",
       "      <th>Time</th>\n",
       "    </tr>\n",
       "  </thead>\n",
       "  <tbody>\n",
       "    <tr>\n",
       "      <th>0</th>\n",
       "      <td>11264996</td>\n",
       "      <td>214859872</td>\n",
       "      <td>1.411882e+09</td>\n",
       "    </tr>\n",
       "    <tr>\n",
       "      <th>1</th>\n",
       "      <td>11264996</td>\n",
       "      <td>214859870</td>\n",
       "      <td>1.411882e+09</td>\n",
       "    </tr>\n",
       "    <tr>\n",
       "      <th>2</th>\n",
       "      <td>11264996</td>\n",
       "      <td>214859902</td>\n",
       "      <td>1.411883e+09</td>\n",
       "    </tr>\n",
       "  </tbody>\n",
       "</table>\n",
       "</div>"
      ],
      "text/plain": [
       "   SessionId     ItemId          Time\n",
       "0   11264996  214859872  1.411882e+09\n",
       "1   11264996  214859870  1.411882e+09\n",
       "2   11264996  214859902  1.411883e+09"
      ]
     },
     "execution_count": 6,
     "metadata": {},
     "output_type": "execute_result"
    }
   ],
   "source": [
    "dev_data.head(3)"
   ]
  },
  {
   "cell_type": "code",
   "execution_count": 7,
   "metadata": {},
   "outputs": [
    {
     "data": {
      "text/html": [
       "<div>\n",
       "<style scoped>\n",
       "    .dataframe tbody tr th:only-of-type {\n",
       "        vertical-align: middle;\n",
       "    }\n",
       "\n",
       "    .dataframe tbody tr th {\n",
       "        vertical-align: top;\n",
       "    }\n",
       "\n",
       "    .dataframe thead th {\n",
       "        text-align: right;\n",
       "    }\n",
       "</style>\n",
       "<table border=\"1\" class=\"dataframe\">\n",
       "  <thead>\n",
       "    <tr style=\"text-align: right;\">\n",
       "      <th></th>\n",
       "      <th>SessionId</th>\n",
       "      <th>ItemId</th>\n",
       "      <th>Time</th>\n",
       "    </tr>\n",
       "  </thead>\n",
       "  <tbody>\n",
       "    <tr>\n",
       "      <th>0</th>\n",
       "      <td>11265009</td>\n",
       "      <td>214586805</td>\n",
       "      <td>1.411971e+09</td>\n",
       "    </tr>\n",
       "    <tr>\n",
       "      <th>1</th>\n",
       "      <td>11265009</td>\n",
       "      <td>214509260</td>\n",
       "      <td>1.411972e+09</td>\n",
       "    </tr>\n",
       "    <tr>\n",
       "      <th>2</th>\n",
       "      <td>11265017</td>\n",
       "      <td>214857547</td>\n",
       "      <td>1.411985e+09</td>\n",
       "    </tr>\n",
       "  </tbody>\n",
       "</table>\n",
       "</div>"
      ],
      "text/plain": [
       "   SessionId     ItemId          Time\n",
       "0   11265009  214586805  1.411971e+09\n",
       "1   11265009  214509260  1.411972e+09\n",
       "2   11265017  214857547  1.411985e+09"
      ]
     },
     "execution_count": 7,
     "metadata": {},
     "output_type": "execute_result"
    }
   ],
   "source": [
    "test_data.head(3)"
   ]
  },
  {
   "cell_type": "code",
   "execution_count": 8,
   "metadata": {},
   "outputs": [
    {
     "name": "stdout",
     "output_type": "stream",
     "text": [
      "the number of train items :  37484\n"
     ]
    }
   ],
   "source": [
    "train_n_items = len(train_data['ItemId'].unique()) + 1\n",
    "print('the number of train items : ', train_n_items)"
   ]
  },
  {
   "cell_type": "code",
   "execution_count": 9,
   "metadata": {},
   "outputs": [
    {
     "name": "stdout",
     "output_type": "stream",
     "text": [
      "the number of train session ID :  7953886\n",
      "the number of test session ID :  15325\n"
     ]
    }
   ],
   "source": [
    "train_samples_qty = len(train_data.SessionId.unique()) + 1\n",
    "test_samples_qty = len(test_data.SessionId.unique()) + 1\n",
    "\n",
    "print('the number of train session ID : ', train_samples_qty)\n",
    "print('the number of test session ID : ', test_samples_qty)"
   ]
  },
  {
   "cell_type": "markdown",
   "metadata": {},
   "source": [
    "# preprocess"
   ]
  },
  {
   "cell_type": "code",
   "execution_count": 26,
   "metadata": {},
   "outputs": [],
   "source": [
    "class SessionDataset :\n",
    "    \"\"\"Credit to yhs-968/pyGRU4REC.\"\"\"\n",
    "    \n",
    "    def __init__(self, data, session_key = 'SessionId', item_key = 'ItemId', time_key = 'Time',\n",
    "                n_samples = -1, itemmap = None, time_sort = False) :\n",
    "        \n",
    "        \"\"\"\n",
    "        Args:\n",
    "            path: path of the data file\n",
    "            session_key, item_key, time_key: name of the fields corresponding to the sessions, items, time\n",
    "            n_samples: the number of samples to use. If -1, use the whole dataset.\n",
    "            itemmap: mapping between item IDs and item indices\n",
    "            time_sort: whether to sort the sessions by time or not\n",
    "        \"\"\"\n",
    "        \n",
    "        self.df = data\n",
    "        self.session_key = session_key\n",
    "        self.item_key = item_key\n",
    "        self.time_sort = time_sort\n",
    "        self.add_time_indices(itemmap=itemmap)\n",
    "        self.df.sort_values([session_key, time_key], inplace = True)\n",
    "        \n",
    "        # new method\n",
    "        self.click_offsets = self.get_click_offsets() #각 sessionID 별 시작 index\n",
    "        self.session_idx_arr = self.order_session_idx()\n",
    "        \n",
    "    def get_click_offsets(self) :\n",
    "        \n",
    "        \"\"\"\n",
    "        Return the offsets of the beginning clicks of each session IDs,\n",
    "        where the offset is calculated against the first click of the first session ID.\n",
    "        \"\"\"\n",
    "        \n",
    "        offsets = np.zeros(self.df[self.session_key].nunique() + 1, dtype = np.int32)\n",
    "        offsets[1:] = self.df.groupby(self.session_key).size().cumsum()\n",
    "        \n",
    "        return offsets\n",
    "    \n",
    "    def order_session_idx(self) :\n",
    "        \"\"\"order the session indices\"\"\"\n",
    "        \n",
    "        if self.time_sort :\n",
    "            # 각 세션별 시작 타임의 최솟값\n",
    "            session_start_time = self.df.groupby(self.session_key)[self.time_key].min().values\n",
    "            # 최솟값들 중에서 작은 것들 순서\n",
    "            session_idx_arr = np.argsort(session_start_time)\n",
    "        \n",
    "        else :\n",
    "            #0~\n",
    "            session_idx_arr = np.arange(self.df[self.session_key].nunique())\n",
    "            \n",
    "        return session_idx_arr\n",
    "    \n",
    "    def add_time_indices(self, itemmap = None) :\n",
    "        \"\"\" \n",
    "        Add item index column named \"item_idx\" to the df\n",
    "        Args:\n",
    "            itemmap (pd.DataFrame): mapping between the item Ids and indices\n",
    "        \"\"\"\n",
    "        \n",
    "        if itemmap is None :\n",
    "            item_ids = self.df[self.item_key].unique() #unique item ids\n",
    "            item2idx = pd.Series(data = np.arange(len(item_ids)),\n",
    "                                index = item_ids) # make index\n",
    "            itemmap = pd.DataFrame({self.item_key : item_ids,\n",
    "                                   'item_idx' : item2idx[item_ids].values})\n",
    "            \n",
    "        self.itemmap = itemmap\n",
    "        self.df = pd.merge(self.df, self.itemmap, on = self.item_key, how = 'inner')\n",
    "        \n",
    "    @property\n",
    "    def items(self) :\n",
    "        return self.itemmap.ItemId.unique()"
   ]
  },
  {
   "cell_type": "code",
   "execution_count": 27,
   "metadata": {},
   "outputs": [],
   "source": [
    "class SessionDataLoader :\n",
    "    \"\"\"Credit to yhs-968/pyGRU4REC.\"\"\"\n",
    "    def __init__(self, dataset, batch_size = 50) :\n",
    "        \"\"\"\n",
    "        A class for creating session-parallel mini-batches.\n",
    "        Args:\n",
    "            dataset (SessionDataset): the session dataset to generate the batches from\n",
    "            batch_size (int): size of the batch\n",
    "        \"\"\"\n",
    "        \n",
    "        self.dataset = dataset\n",
    "        self.batch_size = batch_size\n",
    "        self.done_sessions_counter = 0\n",
    "        \n",
    "        \n",
    "    def __iter__(self) :\n",
    "        \"\"\" Returns the iterator for producing session-parallel training mini-batches.\n",
    "        Yields:\n",
    "            input (B,):  Item indices that will be encoded as one-hot vectors later.\n",
    "            target (B,): a Variable that stores the target item indices\n",
    "            masks: Numpy array indicating the positions of the sessions to be terminated\n",
    "        \"\"\"\n",
    "        \n",
    "        df = self.dataset.df #???????\n",
    "        session_key = 'SessionId'\n",
    "        item_key='ItemId'\n",
    "        time_key='TimeStamp'\n",
    "        self.n_items = df[item_key].nunique()+1\n",
    "        click_offsets = self.dataset.click_offsets\n",
    "        session_idx_arr = self.dataset.session_idx_arr\n",
    "        \n",
    "        iters = np.arange(self.batch_size) #batch size\n",
    "        maxiter = iters.max()\n",
    "        \n",
    "        start = click_offsets[session_idx_arr[iters]]\n",
    "        end = click_offsets[session_idx_arr[iters] + 1]\n",
    "        mask = []\n",
    "        \n",
    "        finished = False\n",
    "        \n",
    "        while not finished:\n",
    "            minlen = (end - start).min()\n",
    "            # Item indices (for embedding) for clicks where the first sessions start\n",
    "            idx_target = df.item_idx.values[start]\n",
    "            for i in range(minlen - 1):\n",
    "                # Build inputs & targets\n",
    "                idx_input = idx_target\n",
    "                idx_target = df.item_idx.values[start + i + 1]\n",
    "                inp = idx_input\n",
    "                target = idx_target\n",
    "                yield inp, target, mask\n",
    "                \n",
    "            # click indices where a particular session meets second-to-last element\n",
    "            start = start + (minlen - 1)\n",
    "            # see if how many sessions should terminate\n",
    "            mask = np.arange(len(iters))[(end - start) <= 1]\n",
    "            self.done_sessions_counter = len(mask)\n",
    "            for idx in mask:\n",
    "                maxiter += 1\n",
    "                if maxiter >= len(click_offsets) - 1:\n",
    "                    finished = True\n",
    "                    break\n",
    "                # update the next starting/ending point\n",
    "                iters[idx] = maxiter\n",
    "                start[idx] = click_offsets[session_idx_arr[maxiter]]\n",
    "                end[idx] = click_offsets[session_idx_arr[maxiter] + 1]"
   ]
  },
  {
   "cell_type": "markdown",
   "metadata": {},
   "source": [
    "# create model"
   ]
  },
  {
   "cell_type": "code",
   "execution_count": 15,
   "metadata": {},
   "outputs": [],
   "source": [
    "def create_model():   \n",
    "    print('create model...')\n",
    "    emb_size = 50\n",
    "    hidden_units = 100\n",
    "    size = emb_size\n",
    "\n",
    "    inputs = Input(batch_shape=(batch_size, 1, train_n_items))\n",
    "    gru, gru_states = CuDNNGRU(hidden_units, stateful=True, return_state=True)(inputs)\n",
    "    drop2 = Dropout(0.25)(gru)\n",
    "    predictions = Dense(train_n_items, activation='softmax')(drop2)\n",
    "    model = Model(input=inputs, output=[predictions])\n",
    "    opt = keras.optimizers.Adam(lr=0.001, beta_1=0.9, beta_2=0.999, epsilon=None, decay=0.0, amsgrad=False)\n",
    "    model.compile(loss=categorical_crossentropy, optimizer=opt)\n",
    "    model.summary()\n",
    "\n",
    "    filepath='./model_checkpoint.h5'\n",
    "    checkpoint = ModelCheckpoint(filepath, monitor='loss', verbose=2, save_best_only=True, mode='min')\n",
    "    callbacks_list = []\n",
    "    return model\n",
    "\n",
    "\n",
    "def get_states(model):\n",
    "    return [K.get_value(s) for s,_ in model.state_updates]"
   ]
  },
  {
   "cell_type": "code",
   "execution_count": 16,
   "metadata": {},
   "outputs": [
    {
     "name": "stdout",
     "output_type": "stream",
     "text": [
      "_________________________________________________________________\n",
      "Layer (type)                 Output Shape              Param #   \n",
      "=================================================================\n",
      "input_1 (InputLayer)         (512, 1, 37484)           0         \n",
      "_________________________________________________________________\n",
      "cu_dnngru_1 (CuDNNGRU)       [(512, 100), (512, 100)]  11275800  \n",
      "_________________________________________________________________\n",
      "dropout_1 (Dropout)          (512, 100)                0         \n",
      "_________________________________________________________________\n",
      "dense_1 (Dense)              (512, 37484)              3785884   \n",
      "=================================================================\n",
      "Total params: 15,061,684\n",
      "Trainable params: 15,061,684\n",
      "Non-trainable params: 0\n",
      "_________________________________________________________________\n"
     ]
    },
    {
     "name": "stderr",
     "output_type": "stream",
     "text": [
      "/usr/local/lib/python3.5/dist-packages/ipykernel_launcher.py:10: UserWarning: Update your `Model` call to the Keras 2 API: `Model(outputs=[<tf.Tenso..., inputs=Tensor(\"in...)`\n",
      "  # Remove the CWD from sys.path while we load stuff.\n"
     ]
    }
   ],
   "source": [
    "#resume True checkpoint에서부터 resuming할 경우\n",
    "resume = False\n",
    "\n",
    "if resume :\n",
    "    try :\n",
    "        model = keras.models.load_model(resume)\n",
    "        print('Model checkpoint {} loaded!'.format(resume))\n",
    "        \n",
    "    except OSError :\n",
    "        print('Model checkpoinit could not be loaded. Training from scratch...')\n",
    "        model = create_model()\n",
    "        \n",
    "else :\n",
    "    model = create_model()"
   ]
  },
  {
   "cell_type": "markdown",
   "metadata": {},
   "source": [
    "# evaluation"
   ]
  },
  {
   "cell_type": "code",
   "execution_count": 25,
   "metadata": {},
   "outputs": [],
   "source": [
    "def get_metrics(model, train_generator_map, recall_k=20, mrr_k=20):\n",
    "\n",
    "    test_dataset = SessionDataset(test_data, itemmap=train_generator_map)\n",
    "    test_generator = SessionDataLoader(test_dataset, batch_size=batch_size)\n",
    "\n",
    "    n = 0\n",
    "    rec_sum = 0\n",
    "    mrr_sum = 0\n",
    "\n",
    "    with tqdm(total=test_samples_qty) as pbar:\n",
    "        for feat, label, mask in test_generator:\n",
    "\n",
    "            target_oh = to_categorical(label, num_classes=train_n_items)\n",
    "            input_oh  = to_categorical(feat,  num_classes=train_n_items) \n",
    "            input_oh = np.expand_dims(input_oh, axis=1)\n",
    "            \n",
    "            pred = model.predict(input_oh, batch_size=batch_size)\n",
    "\n",
    "            for row_idx in range(feat.shape[0]):\n",
    "                pred_row = pred[row_idx] \n",
    "                label_row = target_oh[row_idx]\n",
    "\n",
    "                rec_idx =  pred_row.argsort()[-recall_k:][::-1]\n",
    "                mrr_idx =  pred_row.argsort()[-mrr_k:][::-1]\n",
    "                tru_idx = label_row.argsort()[-1:][::-1]\n",
    "\n",
    "                n += 1\n",
    "\n",
    "                if tru_idx[0] in rec_idx:\n",
    "                    rec_sum += 1\n",
    "\n",
    "                if tru_idx[0] in mrr_idx:\n",
    "                    mrr_sum += 1/int((np.where(mrr_idx == tru_idx[0])[0]+1))\n",
    "            \n",
    "            pbar.set_description(\"Evaluating model\")\n",
    "            pbar.update(test_generator.done_sessions_counter)\n",
    "\n",
    "    recall = rec_sum/n\n",
    "    mrr = mrr_sum/n\n",
    "    return (recall, recall_k), (mrr, mrr_k)"
   ]
  },
  {
   "cell_type": "markdown",
   "metadata": {},
   "source": [
    "# train model"
   ]
  },
  {
   "cell_type": "code",
   "execution_count": 23,
   "metadata": {},
   "outputs": [],
   "source": [
    "def train_model(model, save_weights = False) :\n",
    "    print('class Session Dataset')\n",
    "    train_dataset = SessionDataset(train_data)\n",
    "    print('prepare model')\n",
    "    model_to_train = model\n",
    "    \n",
    "    print('epoch start!')\n",
    "    for epoch in range(1, 10):\n",
    "        with tqdm(total=train_samples_qty) as pbar:\n",
    "            loader = SessionDataLoader(train_dataset, batch_size=batch_size)\n",
    "            for feat, target, mask in loader:\n",
    "                \n",
    "                real_mask = np.ones((batch_size, 1))\n",
    "                for elt in mask:\n",
    "                    real_mask[elt, :] = 0\n",
    "\n",
    "                hidden_states = get_states(model_to_train)[0]\n",
    "                hidden_states = np.multiply(real_mask, hidden_states)\n",
    "                hidden_states = np.array(hidden_states, dtype=np.float32)\n",
    "                model_to_train.layers[1].reset_states(hidden_states)\n",
    "\n",
    "                input_oh = to_categorical(feat, num_classes=loader.n_items) \n",
    "                input_oh = np.expand_dims(input_oh, axis=1)\n",
    "\n",
    "                target_oh = to_categorical(target, num_classes=loader.n_items)\n",
    "\n",
    "                tr_loss = model_to_train.train_on_batch(input_oh, target_oh)\n",
    "\n",
    "                pbar.set_description(\"Epoch {0}. Loss: {1:.5f}\".format(epoch, tr_loss))\n",
    "                pbar.update(loader.done_sessions_counter)\n",
    "            \n",
    "        if save_weights:\n",
    "            print(\"Saving weights...\")\n",
    "            model_to_train.save('./GRU4REC_{}.h5'.format(epoch))\n",
    "        \n",
    "        (rec, rec_k), (mrr, mrr_k) = get_metrics(model_to_train, train_dataset.itemmap)\n",
    "\n",
    "        print(\"\\t - Recall@{} epoch {}: {:5f}\".format(rec_k, epoch, rec))\n",
    "        print(\"\\t - MRR@{}    epoch {}: {:5f}\".format(mrr_k, epoch, mrr))\n",
    "        print(\"\\n\")"
   ]
  },
  {
   "cell_type": "code",
   "execution_count": 24,
   "metadata": {},
   "outputs": [
    {
     "name": "stdout",
     "output_type": "stream",
     "text": [
      "class Session Dataset\n"
     ]
    },
    {
     "name": "stderr",
     "output_type": "stream",
     "text": [
      "\r",
      "  0%|          | 0/7953886 [00:00<?, ?it/s]"
     ]
    },
    {
     "name": "stdout",
     "output_type": "stream",
     "text": [
      "prepare model\n",
      "epoch start!\n"
     ]
    },
    {
     "name": "stderr",
     "output_type": "stream",
     "text": [
      "Epoch 1. Loss: 4.87678: 100%|█████████▉| 7953279/7953886 [1:37:31<00:00, 1359.25it/s]\n"
     ]
    },
    {
     "name": "stdout",
     "output_type": "stream",
     "text": [
      "Saving weights...\n"
     ]
    },
    {
     "ename": "NameError",
     "evalue": "name 'get_metrics' is not defined",
     "output_type": "error",
     "traceback": [
      "\u001b[0;31m---------------------------------------------------------------------------\u001b[0m",
      "\u001b[0;31mNameError\u001b[0m                                 Traceback (most recent call last)",
      "\u001b[0;32m<ipython-input-24-ceb7e742180f>\u001b[0m in \u001b[0;36m<module>\u001b[0;34m\u001b[0m\n\u001b[0;32m----> 1\u001b[0;31m \u001b[0mtrain_model\u001b[0m\u001b[0;34m(\u001b[0m\u001b[0mmodel\u001b[0m\u001b[0;34m,\u001b[0m \u001b[0msave_weights\u001b[0m\u001b[0;34m=\u001b[0m\u001b[0;32mTrue\u001b[0m\u001b[0;34m)\u001b[0m\u001b[0;34m\u001b[0m\u001b[0m\n\u001b[0m",
      "\u001b[0;32m<ipython-input-23-d2b8b6857e57>\u001b[0m in \u001b[0;36mtrain_model\u001b[0;34m(model, save_weights)\u001b[0m\n\u001b[1;32m     34\u001b[0m             \u001b[0mmodel_to_train\u001b[0m\u001b[0;34m.\u001b[0m\u001b[0msave\u001b[0m\u001b[0;34m(\u001b[0m\u001b[0;34m'./GRU4REC_{}.h5'\u001b[0m\u001b[0;34m.\u001b[0m\u001b[0mformat\u001b[0m\u001b[0;34m(\u001b[0m\u001b[0mepoch\u001b[0m\u001b[0;34m)\u001b[0m\u001b[0;34m)\u001b[0m\u001b[0;34m\u001b[0m\u001b[0m\n\u001b[1;32m     35\u001b[0m \u001b[0;34m\u001b[0m\u001b[0m\n\u001b[0;32m---> 36\u001b[0;31m         \u001b[0;34m(\u001b[0m\u001b[0mrec\u001b[0m\u001b[0;34m,\u001b[0m \u001b[0mrec_k\u001b[0m\u001b[0;34m)\u001b[0m\u001b[0;34m,\u001b[0m \u001b[0;34m(\u001b[0m\u001b[0mmrr\u001b[0m\u001b[0;34m,\u001b[0m \u001b[0mmrr_k\u001b[0m\u001b[0;34m)\u001b[0m \u001b[0;34m=\u001b[0m \u001b[0mget_metrics\u001b[0m\u001b[0;34m(\u001b[0m\u001b[0mmodel_to_train\u001b[0m\u001b[0;34m,\u001b[0m \u001b[0mtrain_dataset\u001b[0m\u001b[0;34m.\u001b[0m\u001b[0mitemmap\u001b[0m\u001b[0;34m)\u001b[0m\u001b[0;34m\u001b[0m\u001b[0m\n\u001b[0m\u001b[1;32m     37\u001b[0m \u001b[0;34m\u001b[0m\u001b[0m\n\u001b[1;32m     38\u001b[0m         \u001b[0mprint\u001b[0m\u001b[0;34m(\u001b[0m\u001b[0;34m\"\\t - Recall@{} epoch {}: {:5f}\"\u001b[0m\u001b[0;34m.\u001b[0m\u001b[0mformat\u001b[0m\u001b[0;34m(\u001b[0m\u001b[0mrec_k\u001b[0m\u001b[0;34m,\u001b[0m \u001b[0mepoch\u001b[0m\u001b[0;34m,\u001b[0m \u001b[0mrec\u001b[0m\u001b[0;34m)\u001b[0m\u001b[0;34m)\u001b[0m\u001b[0;34m\u001b[0m\u001b[0m\n",
      "\u001b[0;31mNameError\u001b[0m: name 'get_metrics' is not defined"
     ]
    }
   ],
   "source": [
    "train_model(model, save_weights=True)"
   ]
  }
 ],
 "metadata": {
  "kernelspec": {
   "display_name": "Python 3",
   "language": "python",
   "name": "python3"
  },
  "language_info": {
   "codemirror_mode": {
    "name": "ipython",
    "version": 3
   },
   "file_extension": ".py",
   "mimetype": "text/x-python",
   "name": "python",
   "nbconvert_exporter": "python",
   "pygments_lexer": "ipython3",
   "version": "3.5.2"
  }
 },
 "nbformat": 4,
 "nbformat_minor": 2
}
