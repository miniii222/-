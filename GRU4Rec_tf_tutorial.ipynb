{
 "cells": [
  {
   "cell_type": "markdown",
   "metadata": {},
   "source": [
    "https://khlee88.github.io/GRU4Rec_tutorial/"
   ]
  },
  {
   "cell_type": "code",
   "execution_count": 1,
   "metadata": {},
   "outputs": [
    {
     "data": {
      "text/plain": [
       "['yoochoose-test.dat',\n",
       " 'yoochoose-buys.dat',\n",
       " 'yoochoose-clicks.dat',\n",
       " 'dataset-README.txt']"
      ]
     },
     "execution_count": 1,
     "metadata": {},
     "output_type": "execute_result"
    }
   ],
   "source": [
    "import tensorflow as tf\n",
    "import pandas as pd\n",
    "import numpy as np\n",
    "import time\n",
    "import os\n",
    "\n",
    "os.listdir('../paper_practice/data')"
   ]
  },
  {
   "cell_type": "markdown",
   "metadata": {},
   "source": [
    "# Preprocessing"
   ]
  },
  {
   "cell_type": "code",
   "execution_count": 2,
   "metadata": {},
   "outputs": [],
   "source": [
    "ROOT = '../paper_practice/data/'\n",
    "\n",
    "checkpoint_dir = './checkpoint'\n",
    "if not os.path.exists(checkpoint_dir) : os.mkdir(checkpoint_dir)"
   ]
  },
  {
   "cell_type": "code",
   "execution_count": 18,
   "metadata": {},
   "outputs": [
    {
     "name": "stdout",
     "output_type": "stream",
     "text": [
      "data shape :  (33003943, 3)\n",
      "valid shape :  (8251790, 3)\n"
     ]
    }
   ],
   "source": [
    "#load data\n",
    "colnames = ['Session_ID', 'timestamp', 'Item_ID']\n",
    "data = pd.read_csv(ROOT + 'yoochoose-clicks.dat', names = colnames, dtype = {'Item_ID' : np.int64},\n",
    "                  header = 0, usecols = [0,2,1])\n",
    "valid = pd.read_csv(ROOT + 'yoochoose-test.dat', names = colnames, dtype = {'Item_ID' : np.int64},\n",
    "                   header = 0, usecols = [0,2,1])\n",
    "\n",
    "print('data shape : ', data.shape)\n",
    "print('valid shape : ', valid.shape)"
   ]
  },
  {
   "cell_type": "code",
   "execution_count": 19,
   "metadata": {},
   "outputs": [],
   "source": [
    "data = data[['Session_ID', 'Item_ID', 'timestamp']]\n",
    "valid = valid[['Session_ID', 'Item_ID', 'timestamp']]"
   ]
  },
  {
   "cell_type": "code",
   "execution_count": 5,
   "metadata": {},
   "outputs": [
    {
     "data": {
      "text/html": [
       "<div>\n",
       "<style scoped>\n",
       "    .dataframe tbody tr th:only-of-type {\n",
       "        vertical-align: middle;\n",
       "    }\n",
       "\n",
       "    .dataframe tbody tr th {\n",
       "        vertical-align: top;\n",
       "    }\n",
       "\n",
       "    .dataframe thead th {\n",
       "        text-align: right;\n",
       "    }\n",
       "</style>\n",
       "<table border=\"1\" class=\"dataframe\">\n",
       "  <thead>\n",
       "    <tr style=\"text-align: right;\">\n",
       "      <th></th>\n",
       "      <th>Session_ID</th>\n",
       "      <th>Item_ID</th>\n",
       "      <th>timestamp</th>\n",
       "    </tr>\n",
       "  </thead>\n",
       "  <tbody>\n",
       "    <tr>\n",
       "      <th>0</th>\n",
       "      <td>1</td>\n",
       "      <td>214536500</td>\n",
       "      <td>2014-04-07T10:54:09.868Z</td>\n",
       "    </tr>\n",
       "    <tr>\n",
       "      <th>1</th>\n",
       "      <td>1</td>\n",
       "      <td>214536506</td>\n",
       "      <td>2014-04-07T10:54:46.998Z</td>\n",
       "    </tr>\n",
       "    <tr>\n",
       "      <th>2</th>\n",
       "      <td>1</td>\n",
       "      <td>214577561</td>\n",
       "      <td>2014-04-07T10:57:00.306Z</td>\n",
       "    </tr>\n",
       "  </tbody>\n",
       "</table>\n",
       "</div>"
      ],
      "text/plain": [
       "   Session_ID    Item_ID                 timestamp\n",
       "0           1  214536500  2014-04-07T10:54:09.868Z\n",
       "1           1  214536506  2014-04-07T10:54:46.998Z\n",
       "2           1  214577561  2014-04-07T10:57:00.306Z"
      ]
     },
     "execution_count": 5,
     "metadata": {},
     "output_type": "execute_result"
    }
   ],
   "source": [
    "data.head(3)"
   ]
  },
  {
   "cell_type": "code",
   "execution_count": 6,
   "metadata": {},
   "outputs": [
    {
     "data": {
      "text/html": [
       "<div>\n",
       "<style scoped>\n",
       "    .dataframe tbody tr th:only-of-type {\n",
       "        vertical-align: middle;\n",
       "    }\n",
       "\n",
       "    .dataframe tbody tr th {\n",
       "        vertical-align: top;\n",
       "    }\n",
       "\n",
       "    .dataframe thead th {\n",
       "        text-align: right;\n",
       "    }\n",
       "</style>\n",
       "<table border=\"1\" class=\"dataframe\">\n",
       "  <thead>\n",
       "    <tr style=\"text-align: right;\">\n",
       "      <th></th>\n",
       "      <th>Session_ID</th>\n",
       "      <th>Item_ID</th>\n",
       "      <th>timestamp</th>\n",
       "    </tr>\n",
       "  </thead>\n",
       "  <tbody>\n",
       "    <tr>\n",
       "      <th>0</th>\n",
       "      <td>5</td>\n",
       "      <td>214530776</td>\n",
       "      <td>2014-04-07T17:20:56.973Z</td>\n",
       "    </tr>\n",
       "    <tr>\n",
       "      <th>1</th>\n",
       "      <td>5</td>\n",
       "      <td>214530776</td>\n",
       "      <td>2014-04-07T17:21:19.602Z</td>\n",
       "    </tr>\n",
       "    <tr>\n",
       "      <th>2</th>\n",
       "      <td>10</td>\n",
       "      <td>214820942</td>\n",
       "      <td>2014-04-04T07:44:14.590Z</td>\n",
       "    </tr>\n",
       "  </tbody>\n",
       "</table>\n",
       "</div>"
      ],
      "text/plain": [
       "   Session_ID    Item_ID                 timestamp\n",
       "0           5  214530776  2014-04-07T17:20:56.973Z\n",
       "1           5  214530776  2014-04-07T17:21:19.602Z\n",
       "2          10  214820942  2014-04-04T07:44:14.590Z"
      ]
     },
     "execution_count": 6,
     "metadata": {},
     "output_type": "execute_result"
    }
   ],
   "source": [
    "valid.head(3)"
   ]
  },
  {
   "cell_type": "markdown",
   "metadata": {},
   "source": [
    "# data preprocessing"
   ]
  },
  {
   "cell_type": "code",
   "execution_count": 16,
   "metadata": {},
   "outputs": [],
   "source": [
    "def check_data_sort(dt, sample_check = False, sample_size = 10000) :\n",
    "    if sample_check :\n",
    "        sess_ids = dt['Session_ID'].unique()\n",
    "        sample_sess_ids = np.random.choice(sess_ids, sample_size, replace = False)\n",
    "        dt = dt[np.in1d(dt.Session_ID, sample_sess_ids)]\n",
    "        #np.in1d(x,y) : x안에 y가 있으면 True\n",
    "        \n",
    "    ordered_dt = dt.sort_values(['Session_ID', 'timestamp'])\n",
    "    return ordered_dt"
   ]
  },
  {
   "cell_type": "code",
   "execution_count": 20,
   "metadata": {},
   "outputs": [],
   "source": [
    "data = check_data_sort(data, sample_check = True)\n",
    "valid = check_data_sort(valid)"
   ]
  },
  {
   "cell_type": "code",
   "execution_count": 42,
   "metadata": {},
   "outputs": [],
   "source": [
    "data['timestamp'] = data['timestamp'].str.replace('T', ' ').apply(lambda x : x.split('.')[0])\n",
    "valid['timestamp'] = valid['timestamp'].str.replace('T', ' ').apply(lambda x : x.split('.')[0])\n",
    "\n",
    "from datetime import datetime\n",
    "import time\n",
    "data['timestamp'] = data['timestamp'].apply(lambda x : time.mktime(datetime.strptime(x, \"%Y-%m-%d %H:%M:%S\").timetuple()))\n",
    "valid['timestamp'] = valid['timestamp'].apply(lambda x : time.mktime(datetime.strptime(x, \"%Y-%m-%d %H:%M:%S\").timetuple()))"
   ]
  },
  {
   "cell_type": "code",
   "execution_count": 52,
   "metadata": {},
   "outputs": [],
   "source": [
    "data['timestamp'] = data['timestamp'].apply(lambda x : time.mktime(datetime.strptime(x, \"%Y-%m-%d %H:%M:%S\").timetuple()))\n",
    "valid['timestamp'] = valid['timestamp'].apply(lambda x : time.mktime(datetime.strptime(x, \"%Y-%m-%d %H:%M:%S\").timetuple()))"
   ]
  },
  {
   "cell_type": "code",
   "execution_count": 53,
   "metadata": {},
   "outputs": [
    {
     "data": {
      "text/plain": [
       "1070"
      ]
     },
     "execution_count": 53,
     "metadata": {},
     "output_type": "execute_result"
    }
   ],
   "source": [
    "import gc\n",
    "gc.collect()"
   ]
  },
  {
   "cell_type": "code",
   "execution_count": 25,
   "metadata": {},
   "outputs": [
    {
     "name": "stdout",
     "output_type": "stream",
     "text": [
      "the number of item ID :  8195\n"
     ]
    }
   ],
   "source": [
    "# add item index\n",
    "itemids = data['Item_ID'].unique()\n",
    "n_items = len(itemids)\n",
    "print('the number of item ID : ', n_items)"
   ]
  },
  {
   "cell_type": "code",
   "execution_count": 62,
   "metadata": {},
   "outputs": [
    {
     "data": {
      "text/html": [
       "<div>\n",
       "<style scoped>\n",
       "    .dataframe tbody tr th:only-of-type {\n",
       "        vertical-align: middle;\n",
       "    }\n",
       "\n",
       "    .dataframe tbody tr th {\n",
       "        vertical-align: top;\n",
       "    }\n",
       "\n",
       "    .dataframe thead th {\n",
       "        text-align: right;\n",
       "    }\n",
       "</style>\n",
       "<table border=\"1\" class=\"dataframe\">\n",
       "  <thead>\n",
       "    <tr style=\"text-align: right;\">\n",
       "      <th></th>\n",
       "      <th>Session_ID</th>\n",
       "      <th>Item_ID</th>\n",
       "      <th>timestamp</th>\n",
       "      <th>Item_idx</th>\n",
       "    </tr>\n",
       "  </thead>\n",
       "  <tbody>\n",
       "    <tr>\n",
       "      <th>365</th>\n",
       "      <td>104</td>\n",
       "      <td>214829741</td>\n",
       "      <td>1.396863e+09</td>\n",
       "      <td>0</td>\n",
       "    </tr>\n",
       "    <tr>\n",
       "      <th>366</th>\n",
       "      <td>104</td>\n",
       "      <td>214820842</td>\n",
       "      <td>1.396863e+09</td>\n",
       "      <td>1</td>\n",
       "    </tr>\n",
       "    <tr>\n",
       "      <th>367</th>\n",
       "      <td>104</td>\n",
       "      <td>214821279</td>\n",
       "      <td>1.396863e+09</td>\n",
       "      <td>2</td>\n",
       "    </tr>\n",
       "    <tr>\n",
       "      <th>368</th>\n",
       "      <td>104</td>\n",
       "      <td>214703790</td>\n",
       "      <td>1.396863e+09</td>\n",
       "      <td>3</td>\n",
       "    </tr>\n",
       "    <tr>\n",
       "      <th>938</th>\n",
       "      <td>298</td>\n",
       "      <td>214508942</td>\n",
       "      <td>1.396432e+09</td>\n",
       "      <td>4</td>\n",
       "    </tr>\n",
       "  </tbody>\n",
       "</table>\n",
       "</div>"
      ],
      "text/plain": [
       "     Session_ID    Item_ID     timestamp  Item_idx\n",
       "365         104  214829741  1.396863e+09         0\n",
       "366         104  214820842  1.396863e+09         1\n",
       "367         104  214821279  1.396863e+09         2\n",
       "368         104  214703790  1.396863e+09         3\n",
       "938         298  214508942  1.396432e+09         4"
      ]
     },
     "execution_count": 62,
     "metadata": {},
     "output_type": "execute_result"
    }
   ],
   "source": [
    "itemidmap = pd.Series(data = np.arange(n_items), index = itemids).to_dict()\n",
    "data['Item_idx'] = data['Item_ID'].map(itemidmap)\n",
    "data.head()"
   ]
  },
  {
   "cell_type": "code",
   "execution_count": 64,
   "metadata": {},
   "outputs": [
    {
     "data": {
      "text/plain": [
       "array([ 0,  4,  6,  9, 13], dtype=int32)"
      ]
     },
     "execution_count": 64,
     "metadata": {},
     "output_type": "execute_result"
    }
   ],
   "source": [
    "#offset sessions\n",
    "#각 세션의 시작점의 index list\n",
    "\n",
    "offset_sessions = np.zeros(data['Session_ID'].nunique() + 1, dtype = np.int32)\n",
    "offset_sessions[1:] = data.groupby('Session_ID').size().cumsum()\n",
    "offset_sessions[:5]"
   ]
  },
  {
   "cell_type": "markdown",
   "metadata": {},
   "source": [
    "# prepare Model"
   ]
  },
  {
   "cell_type": "code",
   "execution_count": null,
   "metadata": {},
   "outputs": [],
   "source": [
    "layers = 1\n",
    "rnn_size = 100\n",
    "batch_size = 50\n",
    "drop_keep_prob = 0.7\n",
    "\n",
    "n_epochs = 3\n",
    "learning_rate = 0.001\n",
    "decay = 0.96\n",
    "decay_steps = 1e4\n",
    "grad_cap = 0\n",
    "print_step = 1e3"
   ]
  },
  {
   "cell_type": "code",
   "execution_count": 69,
   "metadata": {},
   "outputs": [],
   "source": [
    "#placeholder & learning rate\n",
    "\n",
    "#tf.placeholder : 미래의 변수. value는 나중에 할당\n",
    "X = tf.placeholder(tf.int32, shape = [batch_size], name = 'input')\n",
    "Y = tf.placeholder(tf.int32, shape = [batch_size], name = 'output')\n",
    "\n",
    "States = [tf.placeholder(tf.float32, [batch_size, rnn_size], name = 'rnn_state') for _ in range(layers)]\n",
    "#layers의 값에 따라 placeholder를 list안에 생성하는 코드\n",
    "\n",
    "global_step = tf.Variable(0, name = 'global_step', trainable = False)\n",
    "lr = tf.maximum(1e-5, tf.train.exponential_decay(\n",
    "                learning_rate, #최소 학습시 사용될 learning_rate\n",
    "                global_step, #현재 학습 횟수\n",
    "                decay_steps, #총 학습 횟수\n",
    "                decay, #얼마나 rate가 감소될 것인지(0.96씩 곱해져서 감소한다)\n",
    "                staircase = True))"
   ]
  },
  {
   "cell_type": "code",
   "execution_count": 70,
   "metadata": {},
   "outputs": [
    {
     "ename": "TypeError",
     "evalue": "__call__() missing 1 required positional argument: 'shape'",
     "output_type": "error",
     "traceback": [
      "\u001b[0;31m---------------------------------------------------------------------------\u001b[0m",
      "\u001b[0;31mTypeError\u001b[0m                                 Traceback (most recent call last)",
      "\u001b[0;32m<ipython-input-70-b6642eda17fe>\u001b[0m in \u001b[0;36m<module>\u001b[0;34m\u001b[0m\n\u001b[1;32m      5\u001b[0m \u001b[0;34m\u001b[0m\u001b[0m\n\u001b[1;32m      6\u001b[0m     \u001b[0msoftmax_W\u001b[0m \u001b[0;34m=\u001b[0m \u001b[0mtf\u001b[0m\u001b[0;34m.\u001b[0m\u001b[0mget_variable\u001b[0m\u001b[0;34m(\u001b[0m\u001b[0;34m'softmax_w'\u001b[0m\u001b[0;34m,\u001b[0m \u001b[0;34m[\u001b[0m\u001b[0mn_items\u001b[0m\u001b[0;34m,\u001b[0m \u001b[0mrnn_size\u001b[0m\u001b[0;34m]\u001b[0m\u001b[0;34m,\u001b[0m \u001b[0minitializer\u001b[0m\u001b[0;34m=\u001b[0m\u001b[0minitializer\u001b[0m\u001b[0;34m)\u001b[0m\u001b[0;34m\u001b[0m\u001b[0m\n\u001b[0;32m----> 7\u001b[0;31m     \u001b[0msoftmax_b\u001b[0m \u001b[0;34m=\u001b[0m \u001b[0mtf\u001b[0m\u001b[0;34m.\u001b[0m\u001b[0mget_variable\u001b[0m\u001b[0;34m(\u001b[0m\u001b[0;34m'softmax_b'\u001b[0m\u001b[0;34m,\u001b[0m \u001b[0;34m[\u001b[0m\u001b[0mn_items\u001b[0m\u001b[0;34m]\u001b[0m\u001b[0;34m,\u001b[0m \u001b[0minitializer\u001b[0m\u001b[0;34m=\u001b[0m\u001b[0minitializer\u001b[0m\u001b[0;34m(\u001b[0m\u001b[0;34m)\u001b[0m\u001b[0;34m)\u001b[0m\u001b[0;34m\u001b[0m\u001b[0m\n\u001b[0m",
      "\u001b[0;31mTypeError\u001b[0m: __call__() missing 1 required positional argument: 'shape'"
     ]
    }
   ],
   "source": [
    "#gru weights\n",
    "with tf.variable_scope('gru_layer', reuse = tf.AUTO_REUSE) :\n",
    "    initializer = tf.glorot_uniform_initializer()\n",
    "    embedding = tf.get_variable('embedding', [n_items, rnn_size], initializer=initializer)\n",
    "    \n",
    "    softmax_W = tf.get_variable('softmax_w', [n_items, rnn_size], initializer=initializer)\n",
    "    softmax_b = tf.get_variable('softmax_b', [n_items], initializer=initializer())"
   ]
  }
 ],
 "metadata": {
  "kernelspec": {
   "display_name": "Python 3",
   "language": "python",
   "name": "python3"
  },
  "language_info": {
   "codemirror_mode": {
    "name": "ipython",
    "version": 3
   },
   "file_extension": ".py",
   "mimetype": "text/x-python",
   "name": "python",
   "nbconvert_exporter": "python",
   "pygments_lexer": "ipython3",
   "version": "3.5.2"
  }
 },
 "nbformat": 4,
 "nbformat_minor": 2
}
